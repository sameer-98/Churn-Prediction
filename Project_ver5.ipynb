{
 "cells": [
  {
   "cell_type": "markdown",
   "metadata": {},
   "source": [
    "## Introduction\n",
    "\n",
    "Churn prediction analysis is a widely used technique involving the use of machine learning models to predict whethe a customer will stay associated with an organization of the customer leaves. This technique is widely utilized by banks who wish to retain their customers. In this notebook we will carry out the study related to the trends in churn and what necessary steps can be taken to ensure its reduction . We will use Kaggle as the source for the data.\n",
    "\n",
    "SCOPE\n",
    "- Exploratory Data Analysis\n",
    "- To predict whether a Customer continues with their account or closes it\n",
    "\n",
    "The dataset contains imbalanced data as there are more samples for people who did not churn as compared to samples that churned. To tackle the problem of class imbalance we have employed to techniques.\n",
    "\n",
    "- Used recall instead of accuracy as the evaluation metric\n",
    "- Used SMOTE ENN as a sampling technique.\n",
    "\n",
    "Kaggle Dataset: https://www.kaggle.com/datasets/shubhammeshram579/bank-customer-churn-prediction"
   ]
  },
  {
   "cell_type": "code",
   "execution_count": 640,
   "metadata": {},
   "outputs": [],
   "source": [
    "#Importing Datasets\n",
    "import pandas as pd\n",
    "import numpy as np\n",
    "import matplotlib.pyplot as plt\n",
    "import seaborn as sns"
   ]
  },
  {
   "cell_type": "markdown",
   "metadata": {},
   "source": [
    "### LOADING DATASET"
   ]
  },
  {
   "cell_type": "code",
   "execution_count": 641,
   "metadata": {},
   "outputs": [
    {
     "data": {
      "text/html": [
       "<div>\n",
       "<style scoped>\n",
       "    .dataframe tbody tr th:only-of-type {\n",
       "        vertical-align: middle;\n",
       "    }\n",
       "\n",
       "    .dataframe tbody tr th {\n",
       "        vertical-align: top;\n",
       "    }\n",
       "\n",
       "    .dataframe thead th {\n",
       "        text-align: right;\n",
       "    }\n",
       "</style>\n",
       "<table border=\"1\" class=\"dataframe\">\n",
       "  <thead>\n",
       "    <tr style=\"text-align: right;\">\n",
       "      <th></th>\n",
       "      <th>RowNumber</th>\n",
       "      <th>CustomerId</th>\n",
       "      <th>Surname</th>\n",
       "      <th>CreditScore</th>\n",
       "      <th>Geography</th>\n",
       "      <th>Gender</th>\n",
       "      <th>Age</th>\n",
       "      <th>Tenure</th>\n",
       "      <th>Balance</th>\n",
       "      <th>NumOfProducts</th>\n",
       "      <th>HasCrCard</th>\n",
       "      <th>IsActiveMember</th>\n",
       "      <th>EstimatedSalary</th>\n",
       "      <th>Exited</th>\n",
       "    </tr>\n",
       "  </thead>\n",
       "  <tbody>\n",
       "    <tr>\n",
       "      <th>0</th>\n",
       "      <td>1</td>\n",
       "      <td>15634602</td>\n",
       "      <td>Hargrave</td>\n",
       "      <td>619</td>\n",
       "      <td>France</td>\n",
       "      <td>Female</td>\n",
       "      <td>42.000</td>\n",
       "      <td>2</td>\n",
       "      <td>0.000</td>\n",
       "      <td>1</td>\n",
       "      <td>1.000</td>\n",
       "      <td>1.000</td>\n",
       "      <td>101348.880</td>\n",
       "      <td>1</td>\n",
       "    </tr>\n",
       "    <tr>\n",
       "      <th>1</th>\n",
       "      <td>2</td>\n",
       "      <td>15647311</td>\n",
       "      <td>Hill</td>\n",
       "      <td>608</td>\n",
       "      <td>Spain</td>\n",
       "      <td>Female</td>\n",
       "      <td>41.000</td>\n",
       "      <td>1</td>\n",
       "      <td>83807.860</td>\n",
       "      <td>1</td>\n",
       "      <td>0.000</td>\n",
       "      <td>1.000</td>\n",
       "      <td>112542.580</td>\n",
       "      <td>0</td>\n",
       "    </tr>\n",
       "    <tr>\n",
       "      <th>2</th>\n",
       "      <td>3</td>\n",
       "      <td>15619304</td>\n",
       "      <td>Onio</td>\n",
       "      <td>502</td>\n",
       "      <td>France</td>\n",
       "      <td>Female</td>\n",
       "      <td>42.000</td>\n",
       "      <td>8</td>\n",
       "      <td>159660.800</td>\n",
       "      <td>3</td>\n",
       "      <td>1.000</td>\n",
       "      <td>0.000</td>\n",
       "      <td>113931.570</td>\n",
       "      <td>1</td>\n",
       "    </tr>\n",
       "    <tr>\n",
       "      <th>3</th>\n",
       "      <td>4</td>\n",
       "      <td>15701354</td>\n",
       "      <td>Boni</td>\n",
       "      <td>699</td>\n",
       "      <td>France</td>\n",
       "      <td>Female</td>\n",
       "      <td>39.000</td>\n",
       "      <td>1</td>\n",
       "      <td>0.000</td>\n",
       "      <td>2</td>\n",
       "      <td>0.000</td>\n",
       "      <td>0.000</td>\n",
       "      <td>93826.630</td>\n",
       "      <td>0</td>\n",
       "    </tr>\n",
       "    <tr>\n",
       "      <th>4</th>\n",
       "      <td>5</td>\n",
       "      <td>15737888</td>\n",
       "      <td>Mitchell</td>\n",
       "      <td>850</td>\n",
       "      <td>Spain</td>\n",
       "      <td>Female</td>\n",
       "      <td>43.000</td>\n",
       "      <td>2</td>\n",
       "      <td>125510.820</td>\n",
       "      <td>1</td>\n",
       "      <td>NaN</td>\n",
       "      <td>1.000</td>\n",
       "      <td>79084.100</td>\n",
       "      <td>0</td>\n",
       "    </tr>\n",
       "  </tbody>\n",
       "</table>\n",
       "</div>"
      ],
      "text/plain": [
       "   RowNumber  CustomerId   Surname  CreditScore Geography  Gender    Age  \\\n",
       "0          1    15634602  Hargrave          619    France  Female 42.000   \n",
       "1          2    15647311      Hill          608     Spain  Female 41.000   \n",
       "2          3    15619304      Onio          502    France  Female 42.000   \n",
       "3          4    15701354      Boni          699    France  Female 39.000   \n",
       "4          5    15737888  Mitchell          850     Spain  Female 43.000   \n",
       "\n",
       "   Tenure    Balance  NumOfProducts  HasCrCard  IsActiveMember  \\\n",
       "0       2      0.000              1      1.000           1.000   \n",
       "1       1  83807.860              1      0.000           1.000   \n",
       "2       8 159660.800              3      1.000           0.000   \n",
       "3       1      0.000              2      0.000           0.000   \n",
       "4       2 125510.820              1        NaN           1.000   \n",
       "\n",
       "   EstimatedSalary  Exited  \n",
       "0       101348.880       1  \n",
       "1       112542.580       0  \n",
       "2       113931.570       1  \n",
       "3        93826.630       0  \n",
       "4        79084.100       0  "
      ]
     },
     "execution_count": 641,
     "metadata": {},
     "output_type": "execute_result"
    }
   ],
   "source": [
    "#Read the csv\n",
    "data = pd.read_csv('Churn_Modelling.csv')\n",
    "results = {}\n",
    "data.head()"
   ]
  },
  {
   "cell_type": "code",
   "execution_count": 642,
   "metadata": {},
   "outputs": [
    {
     "data": {
      "text/html": [
       "<div>\n",
       "<style scoped>\n",
       "    .dataframe tbody tr th:only-of-type {\n",
       "        vertical-align: middle;\n",
       "    }\n",
       "\n",
       "    .dataframe tbody tr th {\n",
       "        vertical-align: top;\n",
       "    }\n",
       "\n",
       "    .dataframe thead th {\n",
       "        text-align: right;\n",
       "    }\n",
       "</style>\n",
       "<table border=\"1\" class=\"dataframe\">\n",
       "  <thead>\n",
       "    <tr style=\"text-align: right;\">\n",
       "      <th></th>\n",
       "      <th>CreditScore</th>\n",
       "      <th>Geography</th>\n",
       "      <th>Gender</th>\n",
       "      <th>Age</th>\n",
       "      <th>Tenure</th>\n",
       "      <th>Balance</th>\n",
       "      <th>NumOfProducts</th>\n",
       "      <th>HasCrCard</th>\n",
       "      <th>IsActiveMember</th>\n",
       "      <th>EstimatedSalary</th>\n",
       "      <th>Exited</th>\n",
       "    </tr>\n",
       "  </thead>\n",
       "  <tbody>\n",
       "    <tr>\n",
       "      <th>0</th>\n",
       "      <td>619</td>\n",
       "      <td>France</td>\n",
       "      <td>Female</td>\n",
       "      <td>42.000</td>\n",
       "      <td>2</td>\n",
       "      <td>0.000</td>\n",
       "      <td>1</td>\n",
       "      <td>1.000</td>\n",
       "      <td>1.000</td>\n",
       "      <td>101348.880</td>\n",
       "      <td>1</td>\n",
       "    </tr>\n",
       "    <tr>\n",
       "      <th>1</th>\n",
       "      <td>608</td>\n",
       "      <td>Spain</td>\n",
       "      <td>Female</td>\n",
       "      <td>41.000</td>\n",
       "      <td>1</td>\n",
       "      <td>83807.860</td>\n",
       "      <td>1</td>\n",
       "      <td>0.000</td>\n",
       "      <td>1.000</td>\n",
       "      <td>112542.580</td>\n",
       "      <td>0</td>\n",
       "    </tr>\n",
       "    <tr>\n",
       "      <th>2</th>\n",
       "      <td>502</td>\n",
       "      <td>France</td>\n",
       "      <td>Female</td>\n",
       "      <td>42.000</td>\n",
       "      <td>8</td>\n",
       "      <td>159660.800</td>\n",
       "      <td>3</td>\n",
       "      <td>1.000</td>\n",
       "      <td>0.000</td>\n",
       "      <td>113931.570</td>\n",
       "      <td>1</td>\n",
       "    </tr>\n",
       "    <tr>\n",
       "      <th>3</th>\n",
       "      <td>699</td>\n",
       "      <td>France</td>\n",
       "      <td>Female</td>\n",
       "      <td>39.000</td>\n",
       "      <td>1</td>\n",
       "      <td>0.000</td>\n",
       "      <td>2</td>\n",
       "      <td>0.000</td>\n",
       "      <td>0.000</td>\n",
       "      <td>93826.630</td>\n",
       "      <td>0</td>\n",
       "    </tr>\n",
       "    <tr>\n",
       "      <th>4</th>\n",
       "      <td>850</td>\n",
       "      <td>Spain</td>\n",
       "      <td>Female</td>\n",
       "      <td>43.000</td>\n",
       "      <td>2</td>\n",
       "      <td>125510.820</td>\n",
       "      <td>1</td>\n",
       "      <td>NaN</td>\n",
       "      <td>1.000</td>\n",
       "      <td>79084.100</td>\n",
       "      <td>0</td>\n",
       "    </tr>\n",
       "  </tbody>\n",
       "</table>\n",
       "</div>"
      ],
      "text/plain": [
       "   CreditScore Geography  Gender    Age  Tenure    Balance  NumOfProducts  \\\n",
       "0          619    France  Female 42.000       2      0.000              1   \n",
       "1          608     Spain  Female 41.000       1  83807.860              1   \n",
       "2          502    France  Female 42.000       8 159660.800              3   \n",
       "3          699    France  Female 39.000       1      0.000              2   \n",
       "4          850     Spain  Female 43.000       2 125510.820              1   \n",
       "\n",
       "   HasCrCard  IsActiveMember  EstimatedSalary  Exited  \n",
       "0      1.000           1.000       101348.880       1  \n",
       "1      0.000           1.000       112542.580       0  \n",
       "2      1.000           0.000       113931.570       1  \n",
       "3      0.000           0.000        93826.630       0  \n",
       "4        NaN           1.000        79084.100       0  "
      ]
     },
     "execution_count": 642,
     "metadata": {},
     "output_type": "execute_result"
    }
   ],
   "source": [
    "\n",
    "#Dropping CustomerId and Surname as they don't contribute significantly in the analysis and modeling\n",
    "data.drop(['RowNumber','CustomerId', 'Surname'], axis=1, inplace=True)\n",
    "\n",
    "data.head()"
   ]
  },
  {
   "cell_type": "markdown",
   "metadata": {},
   "source": [
    "### Exploratory Data Analysis\n",
    "\n",
    "It is important that the banks are able to recognize the customers that are about to exit from the bank and start their business elsewhere. This is important so that the companies can try to sway the clients to not leave the bank\n",
    "\n",
    "The data set contains the numerical and categorical features of different clients. The dataset is highly unbalanced, the positive class (exited) account for 20% of all samples. "
   ]
  },
  {
   "cell_type": "code",
   "execution_count": 643,
   "metadata": {},
   "outputs": [
    {
     "data": {
      "image/png": "[encoded data removed]",
      "text/plain": [
       "<Figure size 640x480 with 1 Axes>"
      ]
     },
     "metadata": {},
     "output_type": "display_data"
    }
   ],
   "source": [
    "plt.pie(data['Exited'].value_counts(), labels=['Not Churned','Churned'], autopct='%1.1f%%')\n",
    "plt.title('Churned vs Non Churned')\n",
    "plt.show()"
   ]
  },
  {
   "cell_type": "code",
   "execution_count": 644,
   "metadata": {},
   "outputs": [
    {
     "data": {
      "text/html": [
       "<div>\n",
       "<style scoped>\n",
       "    .dataframe tbody tr th:only-of-type {\n",
       "        vertical-align: middle;\n",
       "    }\n",
       "\n",
       "    .dataframe tbody tr th {\n",
       "        vertical-align: top;\n",
       "    }\n",
       "\n",
       "    .dataframe thead th {\n",
       "        text-align: right;\n",
       "    }\n",
       "</style>\n",
       "<table border=\"1\" class=\"dataframe\">\n",
       "  <thead>\n",
       "    <tr style=\"text-align: right;\">\n",
       "      <th></th>\n",
       "      <th>CreditScore</th>\n",
       "      <th>Age</th>\n",
       "      <th>Tenure</th>\n",
       "      <th>Balance</th>\n",
       "      <th>NumOfProducts</th>\n",
       "      <th>HasCrCard</th>\n",
       "      <th>IsActiveMember</th>\n",
       "      <th>EstimatedSalary</th>\n",
       "      <th>Exited</th>\n",
       "    </tr>\n",
       "  </thead>\n",
       "  <tbody>\n",
       "    <tr>\n",
       "      <th>count</th>\n",
       "      <td>10002.000</td>\n",
       "      <td>10001.000</td>\n",
       "      <td>10002.000</td>\n",
       "      <td>10002.000</td>\n",
       "      <td>10002.000</td>\n",
       "      <td>10001.000</td>\n",
       "      <td>10001.000</td>\n",
       "      <td>10002.000</td>\n",
       "      <td>10002.000</td>\n",
       "    </tr>\n",
       "    <tr>\n",
       "      <th>mean</th>\n",
       "      <td>650.555</td>\n",
       "      <td>38.922</td>\n",
       "      <td>5.012</td>\n",
       "      <td>76491.113</td>\n",
       "      <td>1.530</td>\n",
       "      <td>0.706</td>\n",
       "      <td>0.515</td>\n",
       "      <td>100083.331</td>\n",
       "      <td>0.204</td>\n",
       "    </tr>\n",
       "    <tr>\n",
       "      <th>std</th>\n",
       "      <td>96.662</td>\n",
       "      <td>10.487</td>\n",
       "      <td>2.892</td>\n",
       "      <td>62393.474</td>\n",
       "      <td>0.582</td>\n",
       "      <td>0.456</td>\n",
       "      <td>0.500</td>\n",
       "      <td>57508.118</td>\n",
       "      <td>0.403</td>\n",
       "    </tr>\n",
       "    <tr>\n",
       "      <th>min</th>\n",
       "      <td>350.000</td>\n",
       "      <td>18.000</td>\n",
       "      <td>0.000</td>\n",
       "      <td>0.000</td>\n",
       "      <td>1.000</td>\n",
       "      <td>0.000</td>\n",
       "      <td>0.000</td>\n",
       "      <td>11.580</td>\n",
       "      <td>0.000</td>\n",
       "    </tr>\n",
       "    <tr>\n",
       "      <th>25%</th>\n",
       "      <td>584.000</td>\n",
       "      <td>32.000</td>\n",
       "      <td>3.000</td>\n",
       "      <td>0.000</td>\n",
       "      <td>1.000</td>\n",
       "      <td>0.000</td>\n",
       "      <td>0.000</td>\n",
       "      <td>50983.750</td>\n",
       "      <td>0.000</td>\n",
       "    </tr>\n",
       "    <tr>\n",
       "      <th>50%</th>\n",
       "      <td>652.000</td>\n",
       "      <td>37.000</td>\n",
       "      <td>5.000</td>\n",
       "      <td>97198.540</td>\n",
       "      <td>1.000</td>\n",
       "      <td>1.000</td>\n",
       "      <td>1.000</td>\n",
       "      <td>100185.240</td>\n",
       "      <td>0.000</td>\n",
       "    </tr>\n",
       "    <tr>\n",
       "      <th>75%</th>\n",
       "      <td>718.000</td>\n",
       "      <td>44.000</td>\n",
       "      <td>7.000</td>\n",
       "      <td>127647.840</td>\n",
       "      <td>2.000</td>\n",
       "      <td>1.000</td>\n",
       "      <td>1.000</td>\n",
       "      <td>149383.652</td>\n",
       "      <td>0.000</td>\n",
       "    </tr>\n",
       "    <tr>\n",
       "      <th>max</th>\n",
       "      <td>850.000</td>\n",
       "      <td>92.000</td>\n",
       "      <td>10.000</td>\n",
       "      <td>250898.090</td>\n",
       "      <td>4.000</td>\n",
       "      <td>1.000</td>\n",
       "      <td>1.000</td>\n",
       "      <td>199992.480</td>\n",
       "      <td>1.000</td>\n",
       "    </tr>\n",
       "  </tbody>\n",
       "</table>\n",
       "</div>"
      ],
      "text/plain": [
       "       CreditScore       Age    Tenure    Balance  NumOfProducts  HasCrCard  \\\n",
       "count    10002.000 10001.000 10002.000  10002.000      10002.000  10001.000   \n",
       "mean       650.555    38.922     5.012  76491.113          1.530      0.706   \n",
       "std         96.662    10.487     2.892  62393.474          0.582      0.456   \n",
       "min        350.000    18.000     0.000      0.000          1.000      0.000   \n",
       "25%        584.000    32.000     3.000      0.000          1.000      0.000   \n",
       "50%        652.000    37.000     5.000  97198.540          1.000      1.000   \n",
       "75%        718.000    44.000     7.000 127647.840          2.000      1.000   \n",
       "max        850.000    92.000    10.000 250898.090          4.000      1.000   \n",
       "\n",
       "       IsActiveMember  EstimatedSalary    Exited  \n",
       "count       10001.000        10002.000 10002.000  \n",
       "mean            0.515       100083.331     0.204  \n",
       "std             0.500        57508.118     0.403  \n",
       "min             0.000           11.580     0.000  \n",
       "25%             0.000        50983.750     0.000  \n",
       "50%             1.000       100185.240     0.000  \n",
       "75%             1.000       149383.652     0.000  \n",
       "max             1.000       199992.480     1.000  "
      ]
     },
     "execution_count": 644,
     "metadata": {},
     "output_type": "execute_result"
    }
   ],
   "source": [
    "#We have set the format of numeric values to allow for 3 decimal places\n",
    "pd.set_option('display.float_format', lambda x: '%.3f' % x)\n",
    "\n",
    "data.describe()"
   ]
  },
  {
   "cell_type": "code",
   "execution_count": 645,
   "metadata": {},
   "outputs": [
    {
     "data": {
      "image/png": "[encoded data removed]",
      "text/plain": [
       "<Figure size 1000x600 with 1 Axes>"
      ]
     },
     "metadata": {},
     "output_type": "display_data"
    }
   ],
   "source": [
    "# Plotting Relationship between Age and Exited\n",
    "plt.figure(figsize=(10, 6))\n",
    "sns.histplot(data=data, x='Age', hue='Exited', bins=10, palette='husl')\n",
    "plt.title('Age Distribution for Exited (Churned) vs Not Exited (Not Churned) Customers')\n",
    "plt.xlabel('Age')\n",
    "plt.ylabel('Customers Count')\n",
    "plt.legend(title='Exited (Churn)', labels=['Not Exited (Not Churned)', 'Exited (Churned)'])\n",
    "plt.show()"
   ]
  },
  {
   "cell_type": "markdown",
   "metadata": {},
   "source": [
    "Overall, this visualization helps in understanding how the distribution of customer ages differs between those who churned and those who did not churn. It allows for the identification of any patterns or differences in age distribution that may be associated with customer churn behavior. For instance, if the histograms for churned and not churned customers exhibit distinct patterns or shapes, it suggests that there are differences in the age distribution between the two groups. For example, if the histogram bars  for churned customers are shifted towards younger ages or have a different peak compared to not churned customers, it indicates that younger customers may be more likely to churn. Conversely, if the age distributions for churned and not churned customers overlap significantly or show similar patterns, it suggests that age may not be a significant factor influencing churn behavior.In summary, the visualization facilitates the comparison of age distribution between churned and not churned customers, offering insights into the potential influence of age on churn behavior and guiding decision-making for customer retention strategies."
   ]
  },
  {
   "cell_type": "code",
   "execution_count": 646,
   "metadata": {},
   "outputs": [
    {
     "data": {
      "image/png": "[encoded data removed]",
      "text/plain": [
       "<Figure size 1000x600 with 1 Axes>"
      ]
     },
     "metadata": {},
     "output_type": "display_data"
    }
   ],
   "source": [
    "# Plotting Relationship between Geography and Exited\n",
    "plt.figure(figsize=(10, 6))\n",
    "sns.histplot(data=data, x='Geography', hue='Exited', bins=10, palette='Set2')\n",
    "plt.title('Geography Distribution for Exited (Churned) vs Not Exited (Not Churned) Customers')\n",
    "plt.xlabel('Geography')\n",
    "plt.ylabel('Customers Count')\n",
    "plt.legend(title='Exited (Churn)', labels=['Not Exited (Not Churned)', 'Exited (Churned)'])\n",
    "plt.show()"
   ]
  },
  {
   "cell_type": "markdown",
   "metadata": {},
   "source": [
    "### Explanation\n",
    "\n",
    "Overall, this visualization helps in understanding how the distribution of customers across different geographical regions differs between those who churned and those who did not churn. It allows for the identification of any geographical patterns or trends associated with churn behavior. By examining the histogram, you can observe how the distribution of customers across different geographical regions varies between churned and not churned customers.\n",
    "Differences in the height or shape of the histogram bars between the two groups indicate variations in customer distribution across geographical regions. For example, if certain geographical regions have higher frequencies of churned customers compared to not churned customers, it suggests that those regions may be more prone to churn. Analyzing these differences in customer distribution can provide insights into the potential influence of geography on churn behavior.\n",
    "It helps in understanding whether certain geographical regions are associated with higher or lower churn rates and guides decision-making for targeted strategies to mitigate churn in specific regions. In summary, the visualization helps in understanding how the distribution of customers across different geographical regions differs between those who churned and those who did not churn, providing insights into geographical patterns or trends associated with churn behavior."
   ]
  },
  {
   "cell_type": "code",
   "execution_count": 647,
   "metadata": {},
   "outputs": [
    {
     "data": {
      "image/png": "[encoded data removed]",
      "text/plain": [
       "<Figure size 1000x600 with 1 Axes>"
      ]
     },
     "metadata": {},
     "output_type": "display_data"
    }
   ],
   "source": [
    "# Plotting Relationship between Tenure and Exited\n",
    "plt.figure(figsize=(10, 6))\n",
    "sns.histplot(data=data, x='Tenure', hue='Exited', bins=10, palette='viridis')\n",
    "plt.title('Tenure Distribution Exited (Churned) vs Not Exited (Not Churned) Customers')\n",
    "plt.xlabel('Tenure (Months)')\n",
    "plt.ylabel('Customers Count')\n",
    "plt.legend(title='Exited (Churn)', labels=['Not Exited (Not Churned)', 'Exited (Churned)'])\n",
    "plt.show()"
   ]
  },
  {
   "cell_type": "markdown",
   "metadata": {},
   "source": [
    "Overall, this visualization helps in understanding how the distribution of customers' tenure (duration of customer relationship) differs between those who churned and those who did not churn. By examining the histogram, you can observe how the distribution of customers' tenure differs between churned and not churned customers.\n",
    "Differences in the shape, height, or spread of the histograms between the two groups indicate variations in customers' tenure distribution. If certain tenure intervals have higher frequencies of churned customers compared to not churned customers, it suggests that customers with certain durations of the customer relationship are more likely to churn.\n",
    "Conversely, if the tenure distributions for churned and not churned customers are similar, it suggests that tenure may not be a significant factor influencing churn behavior. Analyzing these differences in customers' tenure distribution provides insights into the relationship between tenure and churn behavior. It helps in identifying whether customers with longer or shorter tenures are more prone to churn, guiding strategies for customer retention and engagement. In summary, the visualization facilitates the comparison of customers' tenure distribution between churned and not churned customers, offering insights into how the duration of the customer relationship influences churn behavior."
   ]
  },
  {
   "cell_type": "code",
   "execution_count": 648,
   "metadata": {},
   "outputs": [
    {
     "data": {
      "image/png": "[encoded data removed]",
      "text/plain": [
       "<Figure size 800x600 with 1 Axes>"
      ]
     },
     "metadata": {},
     "output_type": "display_data"
    }
   ],
   "source": [
    "# Plotting Relationship between Gender and Exited\n",
    "gender_exits = data.groupby('Gender')['Exited'].mean() * 100\n",
    "plt.figure(figsize=(8, 6))\n",
    "plt.pie(gender_exits, labels=gender_exits.index, autopct='%1.1f%%', startangle=140)\n",
    "plt.title('Percentage of Exited Males and Females')\n",
    "plt.axis('equal')  # Equal aspect ratio ensures that pie is drawn as a circle.\n",
    "plt.show()"
   ]
  },
  {
   "cell_type": "markdown",
   "metadata": {},
   "source": [
    "Overall, this visualization provides a clear comparison of the churn (exit) rates between male and female customers. The pie chart allows you to quickly understand the distribution of churned customers based on gender, making it easy to identify any differences or patterns between the two gender categories."
   ]
  },
  {
   "cell_type": "markdown",
   "metadata": {},
   "source": [
    "### DATA PREPROCESSING\n",
    "\n",
    "The data should be cleaned properly because uncleansed data can affect the accuracy of the model.\n",
    "1. Elimination of null values\n",
    "2. Transforming categorical values into numerical values\n",
    "3. Eliminating redundant (duplicated) data"
   ]
  },
  {
   "cell_type": "code",
   "execution_count": 649,
   "metadata": {},
   "outputs": [
    {
     "name": "stdout",
     "output_type": "stream",
     "text": [
      "The number of duplicated values are: 2\n",
      "No of Missing values\n",
      "CreditScore        0\n",
      "Geography          1\n",
      "Gender             0\n",
      "Age                1\n",
      "Tenure             0\n",
      "Balance            0\n",
      "NumOfProducts      0\n",
      "HasCrCard          1\n",
      "IsActiveMember     1\n",
      "EstimatedSalary    0\n",
      "Exited             0\n",
      "dtype: int64\n"
     ]
    }
   ],
   "source": [
    "# Checking for duplicated values\n",
    "print('The number of duplicated values are:',data.duplicated().sum())\n",
    "\n",
    "# Checking for null values\n",
    "print('No of Missing values')\n",
    "print(data.isna().sum())"
   ]
  },
  {
   "cell_type": "code",
   "execution_count": 650,
   "metadata": {},
   "outputs": [
    {
     "data": {
      "text/html": [
       "<div>\n",
       "<style scoped>\n",
       "    .dataframe tbody tr th:only-of-type {\n",
       "        vertical-align: middle;\n",
       "    }\n",
       "\n",
       "    .dataframe tbody tr th {\n",
       "        vertical-align: top;\n",
       "    }\n",
       "\n",
       "    .dataframe thead th {\n",
       "        text-align: right;\n",
       "    }\n",
       "</style>\n",
       "<table border=\"1\" class=\"dataframe\">\n",
       "  <thead>\n",
       "    <tr style=\"text-align: right;\">\n",
       "      <th></th>\n",
       "      <th>CreditScore</th>\n",
       "      <th>Geography</th>\n",
       "      <th>Gender</th>\n",
       "      <th>Age</th>\n",
       "      <th>Tenure</th>\n",
       "      <th>Balance</th>\n",
       "      <th>NumOfProducts</th>\n",
       "      <th>HasCrCard</th>\n",
       "      <th>IsActiveMember</th>\n",
       "      <th>EstimatedSalary</th>\n",
       "      <th>Exited</th>\n",
       "    </tr>\n",
       "  </thead>\n",
       "  <tbody>\n",
       "    <tr>\n",
       "      <th>0</th>\n",
       "      <td>619</td>\n",
       "      <td>France</td>\n",
       "      <td>Female</td>\n",
       "      <td>42.000</td>\n",
       "      <td>2</td>\n",
       "      <td>0.000</td>\n",
       "      <td>1</td>\n",
       "      <td>1.000</td>\n",
       "      <td>1.000</td>\n",
       "      <td>101348.880</td>\n",
       "      <td>1</td>\n",
       "    </tr>\n",
       "    <tr>\n",
       "      <th>1</th>\n",
       "      <td>608</td>\n",
       "      <td>Spain</td>\n",
       "      <td>Female</td>\n",
       "      <td>41.000</td>\n",
       "      <td>1</td>\n",
       "      <td>83807.860</td>\n",
       "      <td>1</td>\n",
       "      <td>0.000</td>\n",
       "      <td>1.000</td>\n",
       "      <td>112542.580</td>\n",
       "      <td>0</td>\n",
       "    </tr>\n",
       "    <tr>\n",
       "      <th>2</th>\n",
       "      <td>502</td>\n",
       "      <td>France</td>\n",
       "      <td>Female</td>\n",
       "      <td>42.000</td>\n",
       "      <td>8</td>\n",
       "      <td>159660.800</td>\n",
       "      <td>3</td>\n",
       "      <td>1.000</td>\n",
       "      <td>0.000</td>\n",
       "      <td>113931.570</td>\n",
       "      <td>1</td>\n",
       "    </tr>\n",
       "    <tr>\n",
       "      <th>3</th>\n",
       "      <td>699</td>\n",
       "      <td>France</td>\n",
       "      <td>Female</td>\n",
       "      <td>39.000</td>\n",
       "      <td>1</td>\n",
       "      <td>0.000</td>\n",
       "      <td>2</td>\n",
       "      <td>0.000</td>\n",
       "      <td>0.000</td>\n",
       "      <td>93826.630</td>\n",
       "      <td>0</td>\n",
       "    </tr>\n",
       "    <tr>\n",
       "      <th>4</th>\n",
       "      <td>850</td>\n",
       "      <td>Spain</td>\n",
       "      <td>Female</td>\n",
       "      <td>43.000</td>\n",
       "      <td>2</td>\n",
       "      <td>125510.820</td>\n",
       "      <td>1</td>\n",
       "      <td>NaN</td>\n",
       "      <td>1.000</td>\n",
       "      <td>79084.100</td>\n",
       "      <td>0</td>\n",
       "    </tr>\n",
       "    <tr>\n",
       "      <th>...</th>\n",
       "      <td>...</td>\n",
       "      <td>...</td>\n",
       "      <td>...</td>\n",
       "      <td>...</td>\n",
       "      <td>...</td>\n",
       "      <td>...</td>\n",
       "      <td>...</td>\n",
       "      <td>...</td>\n",
       "      <td>...</td>\n",
       "      <td>...</td>\n",
       "      <td>...</td>\n",
       "    </tr>\n",
       "    <tr>\n",
       "      <th>9995</th>\n",
       "      <td>771</td>\n",
       "      <td>France</td>\n",
       "      <td>Male</td>\n",
       "      <td>39.000</td>\n",
       "      <td>5</td>\n",
       "      <td>0.000</td>\n",
       "      <td>2</td>\n",
       "      <td>1.000</td>\n",
       "      <td>0.000</td>\n",
       "      <td>96270.640</td>\n",
       "      <td>0</td>\n",
       "    </tr>\n",
       "    <tr>\n",
       "      <th>9996</th>\n",
       "      <td>516</td>\n",
       "      <td>France</td>\n",
       "      <td>Male</td>\n",
       "      <td>35.000</td>\n",
       "      <td>10</td>\n",
       "      <td>57369.610</td>\n",
       "      <td>1</td>\n",
       "      <td>1.000</td>\n",
       "      <td>1.000</td>\n",
       "      <td>101699.770</td>\n",
       "      <td>0</td>\n",
       "    </tr>\n",
       "    <tr>\n",
       "      <th>9997</th>\n",
       "      <td>709</td>\n",
       "      <td>France</td>\n",
       "      <td>Female</td>\n",
       "      <td>36.000</td>\n",
       "      <td>7</td>\n",
       "      <td>0.000</td>\n",
       "      <td>1</td>\n",
       "      <td>0.000</td>\n",
       "      <td>1.000</td>\n",
       "      <td>42085.580</td>\n",
       "      <td>1</td>\n",
       "    </tr>\n",
       "    <tr>\n",
       "      <th>9998</th>\n",
       "      <td>772</td>\n",
       "      <td>Germany</td>\n",
       "      <td>Male</td>\n",
       "      <td>42.000</td>\n",
       "      <td>3</td>\n",
       "      <td>75075.310</td>\n",
       "      <td>2</td>\n",
       "      <td>1.000</td>\n",
       "      <td>0.000</td>\n",
       "      <td>92888.520</td>\n",
       "      <td>1</td>\n",
       "    </tr>\n",
       "    <tr>\n",
       "      <th>10000</th>\n",
       "      <td>792</td>\n",
       "      <td>France</td>\n",
       "      <td>Female</td>\n",
       "      <td>28.000</td>\n",
       "      <td>4</td>\n",
       "      <td>130142.790</td>\n",
       "      <td>1</td>\n",
       "      <td>1.000</td>\n",
       "      <td>0.000</td>\n",
       "      <td>38190.780</td>\n",
       "      <td>0</td>\n",
       "    </tr>\n",
       "  </tbody>\n",
       "</table>\n",
       "<p>10000 rows × 11 columns</p>\n",
       "</div>"
      ],
      "text/plain": [
       "       CreditScore Geography  Gender    Age  Tenure    Balance  NumOfProducts  \\\n",
       "0              619    France  Female 42.000       2      0.000              1   \n",
       "1              608     Spain  Female 41.000       1  83807.860              1   \n",
       "2              502    France  Female 42.000       8 159660.800              3   \n",
       "3              699    France  Female 39.000       1      0.000              2   \n",
       "4              850     Spain  Female 43.000       2 125510.820              1   \n",
       "...            ...       ...     ...    ...     ...        ...            ...   \n",
       "9995           771    France    Male 39.000       5      0.000              2   \n",
       "9996           516    France    Male 35.000      10  57369.610              1   \n",
       "9997           709    France  Female 36.000       7      0.000              1   \n",
       "9998           772   Germany    Male 42.000       3  75075.310              2   \n",
       "10000          792    France  Female 28.000       4 130142.790              1   \n",
       "\n",
       "       HasCrCard  IsActiveMember  EstimatedSalary  Exited  \n",
       "0          1.000           1.000       101348.880       1  \n",
       "1          0.000           1.000       112542.580       0  \n",
       "2          1.000           0.000       113931.570       1  \n",
       "3          0.000           0.000        93826.630       0  \n",
       "4            NaN           1.000        79084.100       0  \n",
       "...          ...             ...              ...     ...  \n",
       "9995       1.000           0.000        96270.640       0  \n",
       "9996       1.000           1.000       101699.770       0  \n",
       "9997       0.000           1.000        42085.580       1  \n",
       "9998       1.000           0.000        92888.520       1  \n",
       "10000      1.000           0.000        38190.780       0  \n",
       "\n",
       "[10000 rows x 11 columns]"
      ]
     },
     "execution_count": 650,
     "metadata": {},
     "output_type": "execute_result"
    }
   ],
   "source": [
    "# dropping the duplicated values\n",
    "data.drop_duplicates(inplace=True)\n",
    "data"
   ]
  },
  {
   "cell_type": "code",
   "execution_count": 651,
   "metadata": {},
   "outputs": [
    {
     "data": {
      "text/html": [
       "<div>\n",
       "<style scoped>\n",
       "    .dataframe tbody tr th:only-of-type {\n",
       "        vertical-align: middle;\n",
       "    }\n",
       "\n",
       "    .dataframe tbody tr th {\n",
       "        vertical-align: top;\n",
       "    }\n",
       "\n",
       "    .dataframe thead th {\n",
       "        text-align: right;\n",
       "    }\n",
       "</style>\n",
       "<table border=\"1\" class=\"dataframe\">\n",
       "  <thead>\n",
       "    <tr style=\"text-align: right;\">\n",
       "      <th></th>\n",
       "      <th>CreditScore</th>\n",
       "      <th>Geography</th>\n",
       "      <th>Gender</th>\n",
       "      <th>Age</th>\n",
       "      <th>Tenure</th>\n",
       "      <th>Balance</th>\n",
       "      <th>NumOfProducts</th>\n",
       "      <th>HasCrCard</th>\n",
       "      <th>IsActiveMember</th>\n",
       "      <th>EstimatedSalary</th>\n",
       "    </tr>\n",
       "  </thead>\n",
       "  <tbody>\n",
       "    <tr>\n",
       "      <th>0</th>\n",
       "      <td>619</td>\n",
       "      <td>France</td>\n",
       "      <td>Female</td>\n",
       "      <td>42.000</td>\n",
       "      <td>2</td>\n",
       "      <td>0.000</td>\n",
       "      <td>1</td>\n",
       "      <td>1.000</td>\n",
       "      <td>1.000</td>\n",
       "      <td>101348.880</td>\n",
       "    </tr>\n",
       "    <tr>\n",
       "      <th>1</th>\n",
       "      <td>608</td>\n",
       "      <td>Spain</td>\n",
       "      <td>Female</td>\n",
       "      <td>41.000</td>\n",
       "      <td>1</td>\n",
       "      <td>83807.860</td>\n",
       "      <td>1</td>\n",
       "      <td>0.000</td>\n",
       "      <td>1.000</td>\n",
       "      <td>112542.580</td>\n",
       "    </tr>\n",
       "    <tr>\n",
       "      <th>2</th>\n",
       "      <td>502</td>\n",
       "      <td>France</td>\n",
       "      <td>Female</td>\n",
       "      <td>42.000</td>\n",
       "      <td>8</td>\n",
       "      <td>159660.800</td>\n",
       "      <td>3</td>\n",
       "      <td>1.000</td>\n",
       "      <td>0.000</td>\n",
       "      <td>113931.570</td>\n",
       "    </tr>\n",
       "    <tr>\n",
       "      <th>3</th>\n",
       "      <td>699</td>\n",
       "      <td>France</td>\n",
       "      <td>Female</td>\n",
       "      <td>39.000</td>\n",
       "      <td>1</td>\n",
       "      <td>0.000</td>\n",
       "      <td>2</td>\n",
       "      <td>0.000</td>\n",
       "      <td>0.000</td>\n",
       "      <td>93826.630</td>\n",
       "    </tr>\n",
       "    <tr>\n",
       "      <th>4</th>\n",
       "      <td>850</td>\n",
       "      <td>Spain</td>\n",
       "      <td>Female</td>\n",
       "      <td>43.000</td>\n",
       "      <td>2</td>\n",
       "      <td>125510.820</td>\n",
       "      <td>1</td>\n",
       "      <td>NaN</td>\n",
       "      <td>1.000</td>\n",
       "      <td>79084.100</td>\n",
       "    </tr>\n",
       "  </tbody>\n",
       "</table>\n",
       "</div>"
      ],
      "text/plain": [
       "   CreditScore Geography  Gender    Age  Tenure    Balance  NumOfProducts  \\\n",
       "0          619    France  Female 42.000       2      0.000              1   \n",
       "1          608     Spain  Female 41.000       1  83807.860              1   \n",
       "2          502    France  Female 42.000       8 159660.800              3   \n",
       "3          699    France  Female 39.000       1      0.000              2   \n",
       "4          850     Spain  Female 43.000       2 125510.820              1   \n",
       "\n",
       "   HasCrCard  IsActiveMember  EstimatedSalary  \n",
       "0      1.000           1.000       101348.880  \n",
       "1      0.000           1.000       112542.580  \n",
       "2      1.000           0.000       113931.570  \n",
       "3      0.000           0.000        93826.630  \n",
       "4        NaN           1.000        79084.100  "
      ]
     },
     "execution_count": 651,
     "metadata": {},
     "output_type": "execute_result"
    }
   ],
   "source": [
    "#Separate data into feature set and target vector\n",
    "\n",
    "X = data.iloc[:,:-1]\n",
    "y = data.iloc[:,-1]\n",
    "\n",
    "X.head()"
   ]
  },
  {
   "cell_type": "markdown",
   "metadata": {},
   "source": [
    "### Train Test Split\n",
    "\n",
    "We need to split the data using stratified splitting strategy in order to have the same percentages of classes in each of the splits."
   ]
  },
  {
   "cell_type": "code",
   "execution_count": 652,
   "metadata": {},
   "outputs": [],
   "source": [
    "from sklearn.model_selection import train_test_split\n",
    "\n",
    "#Since there is a class imbalance we will use stratified splitting, we make sure that we have both classes in our split \n",
    "X_train, X_test, y_train, y_test = train_test_split(X, y, stratify=y, random_state=0, test_size=0.3)"
   ]
  },
  {
   "cell_type": "markdown",
   "metadata": {},
   "source": [
    "### Encoded Preprocessing and Imputation\n",
    "Preprocessor is a Column Transformer with:\n",
    "\n",
    "- numerical pipeline containing SimpleImputer(median) and StandardScalar\n",
    "- categorical pipeline containing SimpleImputer(most_frequent) and OneHotEncoder"
   ]
  },
  {
   "cell_type": "code",
   "execution_count": 653,
   "metadata": {},
   "outputs": [],
   "source": [
    "#Creating pipelines to encode, impute and scale the data\n",
    "from sklearn.preprocessing import StandardScaler, OneHotEncoder\n",
    "from sklearn.impute import SimpleImputer\n",
    "from sklearn.compose import ColumnTransformer\n",
    "from sklearn.pipeline import Pipeline\n",
    "\n",
    "numerical_features = ['CreditScore','Age','Tenure','Balance','NumOfProducts','EstimatedSalary']\n",
    "categorical_features = ['Geography','Gender','HasCrCard','IsActiveMember']\n",
    "\n",
    "num_features = Pipeline(steps=[\n",
    "    ('numerical', SimpleImputer(strategy = 'median')),\n",
    "    ('scaling', StandardScaler())\n",
    "])\n",
    "\n",
    "cat_features = Pipeline(steps=[\n",
    "    ('categorical', SimpleImputer(strategy='most_frequent')),\n",
    "    ('enc', OneHotEncoder())\n",
    "\n",
    "])\n",
    "\n",
    "preprocessor = ColumnTransformer(transformers=[\n",
    "    ('num', num_features, numerical_features),\n",
    "    ('cat', cat_features, categorical_features)\n",
    "])"
   ]
  },
  {
   "cell_type": "markdown",
   "metadata": {},
   "source": [
    "### BASELINE (no Oversampling)\n",
    "\n",
    "The best model is not the one that gives accurate predictions on the training data, but the one which gives good predictions on the new data and avoids overfitting and underfitting.\n",
    "\n",
    "### Stratified K-Fold  CV \n",
    "Stratification is used when the datasets contain unbalanced classes. Therefore if we cross-validate with a normal technique it may produce subsamples that have a varying distribution of classes."
   ]
  },
  {
   "cell_type": "code",
   "execution_count": 654,
   "metadata": {},
   "outputs": [],
   "source": [
    "from sklearn.model_selection import StratifiedKFold\n",
    "from sklearn.neighbors import KNeighborsClassifier\n",
    "\n",
    "#We are going to ensure that we have the same splits of the data every time. \n",
    "#We can ensure this by creating a KFold object, kf, and passing cv=kf instead of the more common cv=5.\n",
    "\n",
    "kf = StratifiedKFold(n_splits=5, shuffle=False)"
   ]
  },
  {
   "cell_type": "markdown",
   "metadata": {},
   "source": [
    "### Setting up Pipeline Object\n",
    "\n",
    "Notes:\n",
    "- Pipeline has two steps: preprocessing and classifier\n",
    "- use preprocessor and KNeighborClassifier as placeholders"
   ]
  },
  {
   "cell_type": "code",
   "execution_count": 655,
   "metadata": {},
   "outputs": [],
   "source": [
    "from sklearn.neighbors import KNeighborsClassifier\n",
    "\n",
    "# Creating the pipeline object\n",
    "pipe1 = Pipeline([\n",
    "    ('preprocessing', preprocessor),\n",
    "    ('classifier', KNeighborsClassifier())\n",
    "])"
   ]
  },
  {
   "cell_type": "markdown",
   "metadata": {},
   "source": [
    "### Optimizing Recall\n",
    "\n",
    "Recall: <b>The ability of a model to find all the relevant cases within a data set</b>. The number of true positives divided by the number of true positives plus the number of false negatives.\n",
    "\n",
    "In our case, the client has identified that they want to avoid false negative as much as possible. Losing a client will cost the bank more than convincing the clients to stay loyal to the bank. In this use case, a false positive (identifying someone will exit if they are not likely to exit) is not as important as identifying the customers that will exit\n",
    "\n"
   ]
  },
  {
   "cell_type": "code",
   "execution_count": 656,
   "metadata": {},
   "outputs": [
    {
     "name": "stdout",
     "output_type": "stream",
     "text": [
      "Cross Validation Recall scores are: [0.36363636 0.40350877 0.44210526 0.38245614 0.44561404]\n",
      "Average Cross Validation Recall score: 0.40746411483253586\n"
     ]
    }
   ],
   "source": [
    "from sklearn.model_selection import cross_val_score\n",
    "\n",
    "score = cross_val_score(pipe1, X_train, y_train, cv=kf, scoring='recall')\n",
    "print(\"Cross Validation Recall scores are: {}\".format(score))\n",
    "print(\"Average Cross Validation Recall score: {}\".format(score.mean()))"
   ]
  },
  {
   "cell_type": "markdown",
   "metadata": {},
   "source": [
    "### Hyperparameter Using GridSearchCV\n",
    "\n",
    "We can tune the baseline model to the correct hyperparameters using the Grid search.The “best” parameters that GridSearchCV identifies are technically the best that could be produced, but only by the parameters that you included in your parameter grid."
   ]
  },
  {
   "cell_type": "code",
   "execution_count": 657,
   "metadata": {},
   "outputs": [],
   "source": [
    "# Selecting the grid paramter for the baseline model\n",
    "\n",
    "param_grid_knn = [\n",
    "    {\n",
    "        'classifier': [KNeighborsClassifier()],\n",
    "        'preprocessing': [preprocessor],\n",
    "        'classifier__n_neighbors':[4, 5, 7,9]\n",
    "    }\n",
    "]"
   ]
  },
  {
   "cell_type": "code",
   "execution_count": 658,
   "metadata": {},
   "outputs": [],
   "source": [
    "from sklearn.model_selection import GridSearchCV\n",
    "\n",
    "grid_knn = GridSearchCV(pipe1, param_grid=param_grid_knn, cv=kf, \n",
    "                          scoring='recall',return_train_score=True).fit(X_train, y_train)"
   ]
  },
  {
   "cell_type": "code",
   "execution_count": 659,
   "metadata": {},
   "outputs": [
    {
     "name": "stdout",
     "output_type": "stream",
     "text": [
      "Best parameters: {'classifier': KNeighborsClassifier(), 'classifier__n_neighbors': 5, 'preprocessing': ColumnTransformer(transformers=[('num',\n",
      "                                 Pipeline(steps=[('numerical',\n",
      "                                                  SimpleImputer(strategy='median')),\n",
      "                                                 ('scaling',\n",
      "                                                  StandardScaler())]),\n",
      "                                 ['CreditScore', 'Age', 'Tenure', 'Balance',\n",
      "                                  'NumOfProducts', 'EstimatedSalary']),\n",
      "                                ('cat',\n",
      "                                 Pipeline(steps=[('categorical',\n",
      "                                                  SimpleImputer(strategy='most_frequent')),\n",
      "                                                 ('enc', OneHotEncoder())]),\n",
      "                                 ['Geography', 'Gender', 'HasCrCard',\n",
      "                                  'IsActiveMember'])])}\n",
      "Best score: 0.40746411483253586\n",
      "Best cross-validation train score: 0.53\n"
     ]
    }
   ],
   "source": [
    "print('Best parameters:', grid_knn.best_params_)\n",
    "print('Best score:', grid_knn.best_score_)\n",
    "# Best cross validation training score\n",
    "print(\"Best cross-validation train score: {:.2f}\".format(grid_knn.cv_results_['mean_train_score'][grid_knn.best_index_]))\n"
   ]
  },
  {
   "cell_type": "markdown",
   "metadata": {},
   "source": [
    "We have about 40% Recall on one of our models before oversampling. Let's check the test set scores."
   ]
  },
  {
   "cell_type": "code",
   "execution_count": 660,
   "metadata": {},
   "outputs": [],
   "source": [
    "from sklearn.metrics import  recall_score, precision_score, f1_score, accuracy_score\n",
    "\n",
    "'''\n",
    "    Computes the performance on the test set\n",
    "\n",
    "    Args:\n",
    "        est: the fitted estimator \n",
    "        X_test: The unseen test data\n",
    "    \n",
    "    Returns:\n",
    "        Score dataframe with the monitored metrics\n",
    "'''\n",
    "\n",
    "def compute_test_score(est, X_test):\n",
    "    y_pred = est.predict(X_test)\n",
    "\n",
    "    Recall = recall_score(y_test, y_pred)\n",
    "    Precision = precision_score(y_test, y_pred)\n",
    "    f1 = f1_score(y_test, y_pred)\n",
    "    accuracy = accuracy_score(y_test, y_pred)\n",
    "\n",
    "    ndf = [(Recall, Precision, f1, accuracy)]\n",
    "\n",
    "    score = pd.DataFrame(data = ndf, columns=['Recall','Precision','F1 Score', 'Accuracy'])\n",
    "    \n",
    "\n",
    "    return score\n"
   ]
  },
  {
   "cell_type": "code",
   "execution_count": 661,
   "metadata": {},
   "outputs": [
    {
     "data": {
      "text/html": [
       "<div>\n",
       "<style scoped>\n",
       "    .dataframe tbody tr th:only-of-type {\n",
       "        vertical-align: middle;\n",
       "    }\n",
       "\n",
       "    .dataframe tbody tr th {\n",
       "        vertical-align: top;\n",
       "    }\n",
       "\n",
       "    .dataframe thead th {\n",
       "        text-align: right;\n",
       "    }\n",
       "</style>\n",
       "<table border=\"1\" class=\"dataframe\">\n",
       "  <thead>\n",
       "    <tr style=\"text-align: right;\">\n",
       "      <th></th>\n",
       "      <th>KNN with</th>\n",
       "      <th>Recall</th>\n",
       "      <th>Precision</th>\n",
       "      <th>F1 Score</th>\n",
       "      <th>Accuracy</th>\n",
       "    </tr>\n",
       "  </thead>\n",
       "  <tbody>\n",
       "    <tr>\n",
       "      <th>0</th>\n",
       "      <td>No Sampling</td>\n",
       "      <td>0.406</td>\n",
       "      <td>0.656</td>\n",
       "      <td>0.502</td>\n",
       "      <td>0.836</td>\n",
       "    </tr>\n",
       "  </tbody>\n",
       "</table>\n",
       "</div>"
      ],
      "text/plain": [
       "      KNN with  Recall  Precision  F1 Score  Accuracy\n",
       "0  No Sampling   0.406      0.656     0.502     0.836"
      ]
     },
     "execution_count": 661,
     "metadata": {},
     "output_type": "execute_result"
    }
   ],
   "source": [
    "knn_score = compute_test_score(grid_knn,X_test)\n",
    "knn_score.insert(0,'KNN with','No Sampling')\n",
    "knn_score\n"
   ]
  },
  {
   "cell_type": "markdown",
   "metadata": {},
   "source": [
    "The results from the baseline model are quite bad and there is significant overfitting. Lets try a more advanced model such as tree based Random Forest model without sampling and see how they are working in comparison to the baseline model using grid search"
   ]
  },
  {
   "cell_type": "code",
   "execution_count": 662,
   "metadata": {},
   "outputs": [],
   "source": [
    "\n",
    "from sklearn.ensemble import RandomForestClassifier\n",
    "\n",
    "param_grid_rf = [\n",
    "\n",
    "    {\n",
    "        'classifier': [RandomForestClassifier(random_state= 0)],\n",
    "        'preprocessing': [preprocessor],\n",
    "        'classifier__n_estimators':[100,200,300],\n",
    "        'classifier__max_features':[7,9,11],\n",
    "        'classifier__max_depth':[5,7,9]\n",
    "    }\n",
    "]"
   ]
  },
  {
   "cell_type": "code",
   "execution_count": 663,
   "metadata": {},
   "outputs": [],
   "source": [
    "grid_rf = GridSearchCV(pipe1, param_grid=param_grid_rf, cv=kf, \n",
    "                          scoring='recall', n_jobs=-1, return_train_score=True).fit(X_train, y_train)"
   ]
  },
  {
   "cell_type": "code",
   "execution_count": 664,
   "metadata": {},
   "outputs": [
    {
     "name": "stdout",
     "output_type": "stream",
     "text": [
      "Best parameters: {'classifier': RandomForestClassifier(max_depth=9, max_features=11, n_estimators=200,\n",
      "                       random_state=0), 'classifier__max_depth': 9, 'classifier__max_features': 11, 'classifier__n_estimators': 200, 'preprocessing': ColumnTransformer(transformers=[('num',\n",
      "                                 Pipeline(steps=[('numerical',\n",
      "                                                  SimpleImputer(strategy='median')),\n",
      "                                                 ('scaling',\n",
      "                                                  StandardScaler())]),\n",
      "                                 ['CreditScore', 'Age', 'Tenure', 'Balance',\n",
      "                                  'NumOfProducts', 'EstimatedSalary']),\n",
      "                                ('cat',\n",
      "                                 Pipeline(steps=[('categorical',\n",
      "                                                  SimpleImputer(strategy='most_frequent')),\n",
      "                                                 ('enc', OneHotEncoder())]),\n",
      "                                 ['Geography', 'Gender', 'HasCrCard',\n",
      "                                  'IsActiveMember'])])}\n",
      "Best score: 0.48599926389400067\n",
      "Best cross-validation train score: 0.60\n"
     ]
    }
   ],
   "source": [
    "print('Best parameters:', grid_rf.best_params_)\n",
    "print('Best score:', grid_rf.best_score_)\n",
    "# Best cross validation training score\n",
    "print(\"Best cross-validation train score: {:.2f}\".format(grid_rf.cv_results_['mean_train_score'][grid_rf.best_index_]))"
   ]
  },
  {
   "cell_type": "code",
   "execution_count": 665,
   "metadata": {},
   "outputs": [
    {
     "data": {
      "text/html": [
       "<div>\n",
       "<style scoped>\n",
       "    .dataframe tbody tr th:only-of-type {\n",
       "        vertical-align: middle;\n",
       "    }\n",
       "\n",
       "    .dataframe tbody tr th {\n",
       "        vertical-align: top;\n",
       "    }\n",
       "\n",
       "    .dataframe thead th {\n",
       "        text-align: right;\n",
       "    }\n",
       "</style>\n",
       "<table border=\"1\" class=\"dataframe\">\n",
       "  <thead>\n",
       "    <tr style=\"text-align: right;\">\n",
       "      <th></th>\n",
       "      <th>Random Forest with</th>\n",
       "      <th>Recall</th>\n",
       "      <th>Precision</th>\n",
       "      <th>F1 Score</th>\n",
       "      <th>Accuracy</th>\n",
       "    </tr>\n",
       "  </thead>\n",
       "  <tbody>\n",
       "    <tr>\n",
       "      <th>0</th>\n",
       "      <td>No Sampling</td>\n",
       "      <td>0.455</td>\n",
       "      <td>0.762</td>\n",
       "      <td>0.570</td>\n",
       "      <td>0.860</td>\n",
       "    </tr>\n",
       "  </tbody>\n",
       "</table>\n",
       "</div>"
      ],
      "text/plain": [
       "  Random Forest with  Recall  Precision  F1 Score  Accuracy\n",
       "0        No Sampling   0.455      0.762     0.570     0.860"
      ]
     },
     "execution_count": 665,
     "metadata": {},
     "output_type": "execute_result"
    }
   ],
   "source": [
    "rf_score = compute_test_score(grid_rf,X_test)\n",
    "rf_score.insert(0,'Random Forest with','No Sampling')\n",
    "rf_score\n"
   ]
  },
  {
   "cell_type": "markdown",
   "metadata": {},
   "source": [
    "As it can be seen from the results, the tree based model perform better for the minority class, there is still overfitting. The recall when the positive label is 1 is very low.  \n",
    "\n",
    "One way to increase recall is to using the different sampling techniques to oversample or undersample the data. We can oversample the minority class using replacement. We can randomly delete rows from the majority class to match them with the minority class which is called undersampling\n",
    "\n",
    "The following sampling techniques will be used\n",
    "- Random Oversampling: Randomly duplicate examples in the minority class.\n",
    "- Random Under Sampling: Randomly delete examples in the majority class.\n",
    "- Specialized Over Sampling Technique"
   ]
  },
  {
   "cell_type": "markdown",
   "metadata": {},
   "source": [
    "### Random Over Sampling"
   ]
  },
  {
   "cell_type": "code",
   "execution_count": 666,
   "metadata": {},
   "outputs": [],
   "source": [
    "from imblearn.over_sampling import RandomOverSampler\n",
    "from imblearn.pipeline import Pipeline\n",
    "\n",
    "ros = RandomOverSampler(random_state=0)\n",
    "\n",
    "#Creating the pipeline with resampling as the second step\n",
    "pipe_oversampling = Pipeline(\n",
    "    steps=[\n",
    "        ('preprocessing', preprocessor),\n",
    "        ('resample',ros),\n",
    "        ('classifier', KNeighborsClassifier())\n",
    "    ]\n",
    "\n",
    ")"
   ]
  },
  {
   "cell_type": "code",
   "execution_count": 667,
   "metadata": {},
   "outputs": [],
   "source": [
    "grid_knn_os = GridSearchCV(pipe_oversampling, param_grid=param_grid_knn, cv=kf, \n",
    "                          scoring='recall', return_train_score=True).fit(X_train, y_train)"
   ]
  },
  {
   "cell_type": "code",
   "execution_count": 668,
   "metadata": {},
   "outputs": [
    {
     "name": "stdout",
     "output_type": "stream",
     "text": [
      "Best parameters: {'classifier': KNeighborsClassifier(n_neighbors=9), 'classifier__n_neighbors': 9, 'preprocessing': ColumnTransformer(transformers=[('num',\n",
      "                                 Pipeline(steps=[('numerical',\n",
      "                                                  SimpleImputer(strategy='median')),\n",
      "                                                 ('scaling',\n",
      "                                                  StandardScaler())]),\n",
      "                                 ['CreditScore', 'Age', 'Tenure', 'Balance',\n",
      "                                  'NumOfProducts', 'EstimatedSalary']),\n",
      "                                ('cat',\n",
      "                                 Pipeline(steps=[('categorical',\n",
      "                                                  SimpleImputer(strategy='most_frequent')),\n",
      "                                                 ('enc', OneHotEncoder())]),\n",
      "                                 ['Geography', 'Gender', 'HasCrCard',\n",
      "                                  'IsActiveMember'])])}\n",
      "Best score: 0.6977548767022451\n",
      "Best cross-validation train score: 0.86\n"
     ]
    }
   ],
   "source": [
    "print('Best parameters:', grid_knn_os.best_params_)\n",
    "print('Best score:', grid_knn_os.best_score_)\n",
    "# Best cross validation training score\n",
    "print(\"Best cross-validation train score: {:.2f}\".format(grid_knn_os.cv_results_['mean_train_score'][grid_knn_os.best_index_]))"
   ]
  },
  {
   "cell_type": "code",
   "execution_count": 669,
   "metadata": {},
   "outputs": [
    {
     "data": {
      "text/html": [
       "<div>\n",
       "<style scoped>\n",
       "    .dataframe tbody tr th:only-of-type {\n",
       "        vertical-align: middle;\n",
       "    }\n",
       "\n",
       "    .dataframe tbody tr th {\n",
       "        vertical-align: top;\n",
       "    }\n",
       "\n",
       "    .dataframe thead th {\n",
       "        text-align: right;\n",
       "    }\n",
       "</style>\n",
       "<table border=\"1\" class=\"dataframe\">\n",
       "  <thead>\n",
       "    <tr style=\"text-align: right;\">\n",
       "      <th></th>\n",
       "      <th>KNN with</th>\n",
       "      <th>Recall</th>\n",
       "      <th>Precision</th>\n",
       "      <th>F1 Score</th>\n",
       "      <th>Accuracy</th>\n",
       "    </tr>\n",
       "  </thead>\n",
       "  <tbody>\n",
       "    <tr>\n",
       "      <th>0</th>\n",
       "      <td>Over Sampling</td>\n",
       "      <td>0.689</td>\n",
       "      <td>0.429</td>\n",
       "      <td>0.529</td>\n",
       "      <td>0.750</td>\n",
       "    </tr>\n",
       "  </tbody>\n",
       "</table>\n",
       "</div>"
      ],
      "text/plain": [
       "        KNN with  Recall  Precision  F1 Score  Accuracy\n",
       "0  Over Sampling   0.689      0.429     0.529     0.750"
      ]
     },
     "execution_count": 669,
     "metadata": {},
     "output_type": "execute_result"
    }
   ],
   "source": [
    "knn_os_score = compute_test_score(grid_knn_os, X_test)\n",
    "knn_os_score.insert(0,'KNN with','Over Sampling')\n",
    "knn_os_score"
   ]
  },
  {
   "cell_type": "markdown",
   "metadata": {},
   "source": [
    "Recall has increased although there is significant overfitting of the data. "
   ]
  },
  {
   "cell_type": "code",
   "execution_count": 670,
   "metadata": {},
   "outputs": [],
   "source": [
    "grid_rf_os = GridSearchCV(pipe_oversampling, param_grid=param_grid_rf, cv=kf, \n",
    "                          scoring='recall', n_jobs=-1, return_train_score=True).fit(X_train, y_train)"
   ]
  },
  {
   "cell_type": "code",
   "execution_count": 671,
   "metadata": {},
   "outputs": [
    {
     "name": "stdout",
     "output_type": "stream",
     "text": [
      "Best parameters: {'classifier': RandomForestClassifier(max_depth=7, max_features=11, n_estimators=300,\n",
      "                       random_state=0), 'classifier__max_depth': 7, 'classifier__max_features': 11, 'classifier__n_estimators': 300, 'preprocessing': ColumnTransformer(transformers=[('num',\n",
      "                                 Pipeline(steps=[('numerical',\n",
      "                                                  SimpleImputer(strategy='median')),\n",
      "                                                 ('scaling',\n",
      "                                                  StandardScaler())]),\n",
      "                                 ['CreditScore', 'Age', 'Tenure', 'Balance',\n",
      "                                  'NumOfProducts', 'EstimatedSalary']),\n",
      "                                ('cat',\n",
      "                                 Pipeline(steps=[('categorical',\n",
      "                                                  SimpleImputer(strategy='most_frequent')),\n",
      "                                                 ('enc', OneHotEncoder())]),\n",
      "                                 ['Geography', 'Gender', 'HasCrCard',\n",
      "                                  'IsActiveMember'])])}\n",
      "Best score: 0.7208955956324378\n",
      "Best cross-validation train score: 0.81\n"
     ]
    }
   ],
   "source": [
    "print('Best parameters:', grid_rf_os.best_params_)\n",
    "print('Best score:', grid_rf_os.best_score_)\n",
    "# Best cross validation training score\n",
    "print(\"Best cross-validation train score: {:.2f}\".format(grid_rf_os.cv_results_['mean_train_score'][grid_rf_os.best_index_]))"
   ]
  },
  {
   "cell_type": "code",
   "execution_count": 672,
   "metadata": {},
   "outputs": [
    {
     "data": {
      "text/html": [
       "<div>\n",
       "<style scoped>\n",
       "    .dataframe tbody tr th:only-of-type {\n",
       "        vertical-align: middle;\n",
       "    }\n",
       "\n",
       "    .dataframe tbody tr th {\n",
       "        vertical-align: top;\n",
       "    }\n",
       "\n",
       "    .dataframe thead th {\n",
       "        text-align: right;\n",
       "    }\n",
       "</style>\n",
       "<table border=\"1\" class=\"dataframe\">\n",
       "  <thead>\n",
       "    <tr style=\"text-align: right;\">\n",
       "      <th></th>\n",
       "      <th>Random Forest with</th>\n",
       "      <th>Recall</th>\n",
       "      <th>Precision</th>\n",
       "      <th>F1 Score</th>\n",
       "      <th>Accuracy</th>\n",
       "    </tr>\n",
       "  </thead>\n",
       "  <tbody>\n",
       "    <tr>\n",
       "      <th>0</th>\n",
       "      <td>Over Sampling</td>\n",
       "      <td>0.718</td>\n",
       "      <td>0.523</td>\n",
       "      <td>0.605</td>\n",
       "      <td>0.809</td>\n",
       "    </tr>\n",
       "  </tbody>\n",
       "</table>\n",
       "</div>"
      ],
      "text/plain": [
       "  Random Forest with  Recall  Precision  F1 Score  Accuracy\n",
       "0      Over Sampling   0.718      0.523     0.605     0.809"
      ]
     },
     "execution_count": 672,
     "metadata": {},
     "output_type": "execute_result"
    }
   ],
   "source": [
    "rf_os_score = compute_test_score(grid_rf_os,X_test)\n",
    "rf_os_score.insert(0,'Random Forest with','Over Sampling')\n",
    "rf_os_score"
   ]
  },
  {
   "cell_type": "markdown",
   "metadata": {},
   "source": [
    "### Random Under Sampling \n"
   ]
  },
  {
   "cell_type": "code",
   "execution_count": 673,
   "metadata": {},
   "outputs": [],
   "source": [
    "from imblearn.under_sampling import RandomUnderSampler\n",
    "# define oversampling strategy\n",
    "rus = RandomUnderSampler(random_state=0)\n",
    "\n",
    "#Creating the pipeline with resampling as the second step\n",
    "pipe_undersampling = Pipeline(\n",
    "    steps=[\n",
    "        ('preprocessing', preprocessor),\n",
    "        ('resample',rus),\n",
    "        ('classifier', KNeighborsClassifier())\n",
    "    ]\n",
    "\n",
    ")"
   ]
  },
  {
   "cell_type": "code",
   "execution_count": 675,
   "metadata": {},
   "outputs": [],
   "source": [
    "# Fitting the grid\n",
    "grid_knn_us = GridSearchCV(pipe_undersampling, param_grid=param_grid_knn, cv=kf, \n",
    "                          scoring='recall', return_train_score=True).fit(X_train, y_train)"
   ]
  },
  {
   "cell_type": "code",
   "execution_count": 676,
   "metadata": {},
   "outputs": [
    {
     "name": "stdout",
     "output_type": "stream",
     "text": [
      "Best parameters: {'classifier': KNeighborsClassifier(n_neighbors=9), 'classifier__n_neighbors': 9, 'preprocessing': ColumnTransformer(transformers=[('num',\n",
      "                                 Pipeline(steps=[('numerical',\n",
      "                                                  SimpleImputer(strategy='median')),\n",
      "                                                 ('scaling',\n",
      "                                                  StandardScaler())]),\n",
      "                                 ['CreditScore', 'Age', 'Tenure', 'Balance',\n",
      "                                  'NumOfProducts', 'EstimatedSalary']),\n",
      "                                ('cat',\n",
      "                                 Pipeline(steps=[('categorical',\n",
      "                                                  SimpleImputer(strategy='most_frequent')),\n",
      "                                                 ('enc', OneHotEncoder())]),\n",
      "                                 ['Geography', 'Gender', 'HasCrCard',\n",
      "                                  'IsActiveMember'])])}\n",
      "Best score: 0.7370310391363023\n",
      "Best cross-validation train score: 0.81\n"
     ]
    }
   ],
   "source": [
    "print('Best parameters:', grid_knn_us.best_params_)\n",
    "print('Best score:', grid_knn_us.best_score_)\n",
    "# Best cross validation training score\n",
    "print(\"Best cross-validation train score: {:.2f}\".format(grid_rf_os.cv_results_['mean_train_score'][grid_rf_os.best_index_]))"
   ]
  },
  {
   "cell_type": "code",
   "execution_count": 677,
   "metadata": {},
   "outputs": [
    {
     "data": {
      "text/html": [
       "<div>\n",
       "<style scoped>\n",
       "    .dataframe tbody tr th:only-of-type {\n",
       "        vertical-align: middle;\n",
       "    }\n",
       "\n",
       "    .dataframe tbody tr th {\n",
       "        vertical-align: top;\n",
       "    }\n",
       "\n",
       "    .dataframe thead th {\n",
       "        text-align: right;\n",
       "    }\n",
       "</style>\n",
       "<table border=\"1\" class=\"dataframe\">\n",
       "  <thead>\n",
       "    <tr style=\"text-align: right;\">\n",
       "      <th></th>\n",
       "      <th>KNN with</th>\n",
       "      <th>Recall</th>\n",
       "      <th>Precision</th>\n",
       "      <th>F1 Score</th>\n",
       "      <th>Accuracy</th>\n",
       "    </tr>\n",
       "  </thead>\n",
       "  <tbody>\n",
       "    <tr>\n",
       "      <th>0</th>\n",
       "      <td>Under Sampling</td>\n",
       "      <td>0.725</td>\n",
       "      <td>0.450</td>\n",
       "      <td>0.555</td>\n",
       "      <td>0.763</td>\n",
       "    </tr>\n",
       "  </tbody>\n",
       "</table>\n",
       "</div>"
      ],
      "text/plain": [
       "         KNN with  Recall  Precision  F1 Score  Accuracy\n",
       "0  Under Sampling   0.725      0.450     0.555     0.763"
      ]
     },
     "execution_count": 677,
     "metadata": {},
     "output_type": "execute_result"
    }
   ],
   "source": [
    "# KNN Under Sampling\n",
    "knn_us_score = compute_test_score(grid_knn_us, X_test)\n",
    "knn_us_score.insert(0,'KNN with','Under Sampling')\n",
    "knn_us_score"
   ]
  },
  {
   "cell_type": "code",
   "execution_count": 679,
   "metadata": {},
   "outputs": [],
   "source": [
    "# RF Under Sampling\n",
    "grid_rf_us = GridSearchCV(pipe_undersampling, param_grid=param_grid_rf, cv=kf, \n",
    "                          scoring='recall', return_train_score=True).fit(X_train, y_train)"
   ]
  },
  {
   "cell_type": "code",
   "execution_count": 680,
   "metadata": {},
   "outputs": [
    {
     "name": "stdout",
     "output_type": "stream",
     "text": [
      "Best parameters: {'classifier': RandomForestClassifier(max_depth=9, max_features=9, n_estimators=200,\n",
      "                       random_state=0), 'classifier__max_depth': 9, 'classifier__max_features': 9, 'classifier__n_estimators': 200, 'preprocessing': ColumnTransformer(transformers=[('num',\n",
      "                                 Pipeline(steps=[('numerical',\n",
      "                                                  SimpleImputer(strategy='median')),\n",
      "                                                 ('scaling',\n",
      "                                                  StandardScaler())]),\n",
      "                                 ['CreditScore', 'Age', 'Tenure', 'Balance',\n",
      "                                  'NumOfProducts', 'EstimatedSalary']),\n",
      "                                ('cat',\n",
      "                                 Pipeline(steps=[('categorical',\n",
      "                                                  SimpleImputer(strategy='most_frequent')),\n",
      "                                                 ('enc', OneHotEncoder())]),\n",
      "                                 ['Geography', 'Gender', 'HasCrCard',\n",
      "                                  'IsActiveMember'])])}\n",
      "Best score: 0.749642988590357\n",
      "Best cross-validation train score: 0.81\n"
     ]
    }
   ],
   "source": [
    "print('Best parameters:', grid_rf_us.best_params_)\n",
    "print('Best score:', grid_rf_us.best_score_)\n",
    "# Best cross validation training score\n",
    "print(\"Best cross-validation train score: {:.2f}\".format(grid_rf_os.cv_results_['mean_train_score'][grid_rf_os.best_index_]))"
   ]
  },
  {
   "cell_type": "code",
   "execution_count": 681,
   "metadata": {},
   "outputs": [
    {
     "data": {
      "text/html": [
       "<div>\n",
       "<style scoped>\n",
       "    .dataframe tbody tr th:only-of-type {\n",
       "        vertical-align: middle;\n",
       "    }\n",
       "\n",
       "    .dataframe tbody tr th {\n",
       "        vertical-align: top;\n",
       "    }\n",
       "\n",
       "    .dataframe thead th {\n",
       "        text-align: right;\n",
       "    }\n",
       "</style>\n",
       "<table border=\"1\" class=\"dataframe\">\n",
       "  <thead>\n",
       "    <tr style=\"text-align: right;\">\n",
       "      <th></th>\n",
       "      <th>Random Forest with</th>\n",
       "      <th>Recall</th>\n",
       "      <th>Precision</th>\n",
       "      <th>F1 Score</th>\n",
       "      <th>Accuracy</th>\n",
       "    </tr>\n",
       "  </thead>\n",
       "  <tbody>\n",
       "    <tr>\n",
       "      <th>0</th>\n",
       "      <td>Under Sampling</td>\n",
       "      <td>0.727</td>\n",
       "      <td>0.467</td>\n",
       "      <td>0.569</td>\n",
       "      <td>0.776</td>\n",
       "    </tr>\n",
       "  </tbody>\n",
       "</table>\n",
       "</div>"
      ],
      "text/plain": [
       "  Random Forest with  Recall  Precision  F1 Score  Accuracy\n",
       "0     Under Sampling   0.727      0.467     0.569     0.776"
      ]
     },
     "execution_count": 681,
     "metadata": {},
     "output_type": "execute_result"
    }
   ],
   "source": [
    "rf_us_score = compute_test_score(grid_rf_us,X_test)\n",
    "rf_us_score.insert(0,'Random Forest with','Under Sampling')\n",
    "rf_us_score"
   ]
  },
  {
   "cell_type": "markdown",
   "metadata": {},
   "source": [
    "With the sampling techniques used above, the recall of the model has increased but there is still overfitting of the data. We are going to try a specialized technique called smote enn and see if the overfitting problem persists"
   ]
  },
  {
   "cell_type": "markdown",
   "metadata": {},
   "source": [
    "### SMOTE ENN\n",
    "\n",
    "SMOTE ability to generate synthetic examples for minority class and ENN ability to delete some observations from both classes that are identified as having different class between the observation’s class and its K-nearest neighbor majority class."
   ]
  },
  {
   "cell_type": "code",
   "execution_count": 682,
   "metadata": {},
   "outputs": [],
   "source": [
    "# Importing imblearn libraries\n",
    "\n",
    "from imblearn.pipeline import Pipeline\n",
    "from imblearn.combine import SMOTEENN\n",
    "from imblearn.under_sampling import EditedNearestNeighbours\n",
    "\n",
    "resample = SMOTEENN(enn=EditedNearestNeighbours(sampling_strategy='all'))\n",
    "\n",
    "#Creating the pipeline with resampling as the second step\n",
    "pipe_sampling_smote = Pipeline(\n",
    "    steps=[\n",
    "        ('preprocessing', preprocessor),\n",
    "        ('resample',resample),\n",
    "        ('classifier', KNeighborsClassifier())\n",
    "    ]\n",
    "\n",
    ")"
   ]
  },
  {
   "cell_type": "code",
   "execution_count": 683,
   "metadata": {},
   "outputs": [],
   "source": [
    "grid_knn_smote = GridSearchCV(pipe_sampling_smote, param_grid=param_grid_knn, cv=kf, \n",
    "                          scoring='recall', return_train_score=True).fit(X_train, y_train)"
   ]
  },
  {
   "cell_type": "code",
   "execution_count": 684,
   "metadata": {},
   "outputs": [
    {
     "name": "stdout",
     "output_type": "stream",
     "text": [
      "Best parameters: {'classifier': KNeighborsClassifier(n_neighbors=7), 'classifier__n_neighbors': 7, 'preprocessing': ColumnTransformer(transformers=[('num',\n",
      "                                 Pipeline(steps=[('numerical',\n",
      "                                                  SimpleImputer(strategy='median')),\n",
      "                                                 ('scaling',\n",
      "                                                  StandardScaler())]),\n",
      "                                 ['CreditScore', 'Age', 'Tenure', 'Balance',\n",
      "                                  'NumOfProducts', 'EstimatedSalary']),\n",
      "                                ('cat',\n",
      "                                 Pipeline(steps=[('categorical',\n",
      "                                                  SimpleImputer(strategy='most_frequent')),\n",
      "                                                 ('enc', OneHotEncoder())]),\n",
      "                                 ['Geography', 'Gender', 'HasCrCard',\n",
      "                                  'IsActiveMember'])])}\n",
      "Best score: 0.7776984419089683\n",
      "Best cross-validation train score: 0.86\n"
     ]
    }
   ],
   "source": [
    "print('Best parameters:', grid_knn_smote.best_params_)\n",
    "print('Best score:', grid_knn_smote.best_score_)\n",
    "print(\"Best cross-validation train score: {:.2f}\".format(grid_knn_os.cv_results_['mean_train_score'][grid_knn_os.best_index_]))"
   ]
  },
  {
   "cell_type": "code",
   "execution_count": 685,
   "metadata": {},
   "outputs": [
    {
     "data": {
      "text/html": [
       "<div>\n",
       "<style scoped>\n",
       "    .dataframe tbody tr th:only-of-type {\n",
       "        vertical-align: middle;\n",
       "    }\n",
       "\n",
       "    .dataframe tbody tr th {\n",
       "        vertical-align: top;\n",
       "    }\n",
       "\n",
       "    .dataframe thead th {\n",
       "        text-align: right;\n",
       "    }\n",
       "</style>\n",
       "<table border=\"1\" class=\"dataframe\">\n",
       "  <thead>\n",
       "    <tr style=\"text-align: right;\">\n",
       "      <th></th>\n",
       "      <th>KNN with</th>\n",
       "      <th>Recall</th>\n",
       "      <th>Precision</th>\n",
       "      <th>F1 Score</th>\n",
       "      <th>Accuracy</th>\n",
       "    </tr>\n",
       "  </thead>\n",
       "  <tbody>\n",
       "    <tr>\n",
       "      <th>0</th>\n",
       "      <td>SMOTE Sampling</td>\n",
       "      <td>0.761</td>\n",
       "      <td>0.402</td>\n",
       "      <td>0.526</td>\n",
       "      <td>0.721</td>\n",
       "    </tr>\n",
       "  </tbody>\n",
       "</table>\n",
       "</div>"
      ],
      "text/plain": [
       "         KNN with  Recall  Precision  F1 Score  Accuracy\n",
       "0  SMOTE Sampling   0.761      0.402     0.526     0.721"
      ]
     },
     "execution_count": 685,
     "metadata": {},
     "output_type": "execute_result"
    }
   ],
   "source": [
    "knn_smote_score = compute_test_score(grid_knn_smote, X_test)\n",
    "knn_smote_score.insert(0,'KNN with','SMOTE Sampling')\n",
    "knn_smote_score"
   ]
  },
  {
   "cell_type": "code",
   "execution_count": 686,
   "metadata": {},
   "outputs": [],
   "source": [
    "grid_rf_smote = GridSearchCV(pipe_sampling_smote, param_grid=param_grid_rf, cv=kf, \n",
    "                          scoring='recall', return_train_score=True).fit(X_train, y_train)"
   ]
  },
  {
   "cell_type": "code",
   "execution_count": 687,
   "metadata": {},
   "outputs": [
    {
     "name": "stdout",
     "output_type": "stream",
     "text": [
      "Best parameters: {'classifier': RandomForestClassifier(max_depth=5, max_features=11, n_estimators=300,\n",
      "                       random_state=0), 'classifier__max_depth': 5, 'classifier__max_features': 11, 'classifier__n_estimators': 300, 'preprocessing': ColumnTransformer(transformers=[('num',\n",
      "                                 Pipeline(steps=[('numerical',\n",
      "                                                  SimpleImputer(strategy='median')),\n",
      "                                                 ('scaling',\n",
      "                                                  StandardScaler())]),\n",
      "                                 ['CreditScore', 'Age', 'Tenure', 'Balance',\n",
      "                                  'NumOfProducts', 'EstimatedSalary']),\n",
      "                                ('cat',\n",
      "                                 Pipeline(steps=[('categorical',\n",
      "                                                  SimpleImputer(strategy='most_frequent')),\n",
      "                                                 ('enc', OneHotEncoder())]),\n",
      "                                 ['Geography', 'Gender', 'HasCrCard',\n",
      "                                  'IsActiveMember'])])}\n",
      "Best score: 0.78891669733775\n",
      "Best cross-validation train score: 0.80\n"
     ]
    }
   ],
   "source": [
    "print('Best parameters:', grid_rf_smote.best_params_)\n",
    "print('Best score:', grid_rf_smote.best_score_)\n",
    "# Best cross validation training score\n",
    "print(\"Best cross-validation train score: {:.2f}\".format(grid_rf_smote.cv_results_['mean_train_score'][grid_rf_smote.best_index_]))"
   ]
  },
  {
   "cell_type": "code",
   "execution_count": 688,
   "metadata": {},
   "outputs": [
    {
     "data": {
      "text/html": [
       "<div>\n",
       "<style scoped>\n",
       "    .dataframe tbody tr th:only-of-type {\n",
       "        vertical-align: middle;\n",
       "    }\n",
       "\n",
       "    .dataframe tbody tr th {\n",
       "        vertical-align: top;\n",
       "    }\n",
       "\n",
       "    .dataframe thead th {\n",
       "        text-align: right;\n",
       "    }\n",
       "</style>\n",
       "<table border=\"1\" class=\"dataframe\">\n",
       "  <thead>\n",
       "    <tr style=\"text-align: right;\">\n",
       "      <th></th>\n",
       "      <th>Random Forest with</th>\n",
       "      <th>Recall</th>\n",
       "      <th>Precision</th>\n",
       "      <th>F1 Score</th>\n",
       "      <th>Accuracy</th>\n",
       "    </tr>\n",
       "  </thead>\n",
       "  <tbody>\n",
       "    <tr>\n",
       "      <th>0</th>\n",
       "      <td>SMOTE Sampling</td>\n",
       "      <td>0.779</td>\n",
       "      <td>0.454</td>\n",
       "      <td>0.573</td>\n",
       "      <td>0.764</td>\n",
       "    </tr>\n",
       "  </tbody>\n",
       "</table>\n",
       "</div>"
      ],
      "text/plain": [
       "  Random Forest with  Recall  Precision  F1 Score  Accuracy\n",
       "0     SMOTE Sampling   0.779      0.454     0.573     0.764"
      ]
     },
     "execution_count": 688,
     "metadata": {},
     "output_type": "execute_result"
    }
   ],
   "source": [
    "rf_smote_score = compute_test_score(grid_rf_smote,X_test)\n",
    "rf_smote_score.insert(0,'Random Forest with','SMOTE Sampling')\n",
    "rf_smote_score"
   ]
  },
  {
   "cell_type": "markdown",
   "metadata": {},
   "source": [
    "The overfitting problem has reduced significantly, as the training and test set scores are quite closer, while also increasing the recall"
   ]
  },
  {
   "cell_type": "markdown",
   "metadata": {},
   "source": [
    "### Creating Score Dataframe"
   ]
  },
  {
   "cell_type": "code",
   "execution_count": 689,
   "metadata": {},
   "outputs": [
    {
     "data": {
      "text/html": [
       "<div>\n",
       "<style scoped>\n",
       "    .dataframe tbody tr th:only-of-type {\n",
       "        vertical-align: middle;\n",
       "    }\n",
       "\n",
       "    .dataframe tbody tr th {\n",
       "        vertical-align: top;\n",
       "    }\n",
       "\n",
       "    .dataframe thead th {\n",
       "        text-align: right;\n",
       "    }\n",
       "</style>\n",
       "<table border=\"1\" class=\"dataframe\">\n",
       "  <thead>\n",
       "    <tr style=\"text-align: right;\">\n",
       "      <th></th>\n",
       "      <th>KNN with</th>\n",
       "      <th>Recall</th>\n",
       "      <th>Precision</th>\n",
       "      <th>F1 Score</th>\n",
       "      <th>Accuracy</th>\n",
       "    </tr>\n",
       "  </thead>\n",
       "  <tbody>\n",
       "    <tr>\n",
       "      <th>3</th>\n",
       "      <td>SMOTE Sampling</td>\n",
       "      <td>0.761</td>\n",
       "      <td>0.402</td>\n",
       "      <td>0.526</td>\n",
       "      <td>0.721</td>\n",
       "    </tr>\n",
       "    <tr>\n",
       "      <th>2</th>\n",
       "      <td>Under Sampling</td>\n",
       "      <td>0.725</td>\n",
       "      <td>0.450</td>\n",
       "      <td>0.555</td>\n",
       "      <td>0.763</td>\n",
       "    </tr>\n",
       "    <tr>\n",
       "      <th>1</th>\n",
       "      <td>Over Sampling</td>\n",
       "      <td>0.689</td>\n",
       "      <td>0.429</td>\n",
       "      <td>0.529</td>\n",
       "      <td>0.750</td>\n",
       "    </tr>\n",
       "    <tr>\n",
       "      <th>0</th>\n",
       "      <td>No Sampling</td>\n",
       "      <td>0.406</td>\n",
       "      <td>0.656</td>\n",
       "      <td>0.502</td>\n",
       "      <td>0.836</td>\n",
       "    </tr>\n",
       "  </tbody>\n",
       "</table>\n",
       "</div>"
      ],
      "text/plain": [
       "         KNN with  Recall  Precision  F1 Score  Accuracy\n",
       "3  SMOTE Sampling   0.761      0.402     0.526     0.721\n",
       "2  Under Sampling   0.725      0.450     0.555     0.763\n",
       "1   Over Sampling   0.689      0.429     0.529     0.750\n",
       "0     No Sampling   0.406      0.656     0.502     0.836"
      ]
     },
     "execution_count": 689,
     "metadata": {},
     "output_type": "execute_result"
    }
   ],
   "source": [
    "predictions_knn = pd.concat([knn_score, knn_os_score, knn_us_score, knn_smote_score], ignore_index=True, sort=False)\n",
    "predictions_knn.sort_values(by=['Recall'], ascending=False)\n"
   ]
  },
  {
   "cell_type": "code",
   "execution_count": 690,
   "metadata": {},
   "outputs": [
    {
     "data": {
      "text/html": [
       "<div>\n",
       "<style scoped>\n",
       "    .dataframe tbody tr th:only-of-type {\n",
       "        vertical-align: middle;\n",
       "    }\n",
       "\n",
       "    .dataframe tbody tr th {\n",
       "        vertical-align: top;\n",
       "    }\n",
       "\n",
       "    .dataframe thead th {\n",
       "        text-align: right;\n",
       "    }\n",
       "</style>\n",
       "<table border=\"1\" class=\"dataframe\">\n",
       "  <thead>\n",
       "    <tr style=\"text-align: right;\">\n",
       "      <th></th>\n",
       "      <th>Random Forest with</th>\n",
       "      <th>Recall</th>\n",
       "      <th>Precision</th>\n",
       "      <th>F1 Score</th>\n",
       "      <th>Accuracy</th>\n",
       "    </tr>\n",
       "  </thead>\n",
       "  <tbody>\n",
       "    <tr>\n",
       "      <th>3</th>\n",
       "      <td>SMOTE Sampling</td>\n",
       "      <td>0.779</td>\n",
       "      <td>0.454</td>\n",
       "      <td>0.573</td>\n",
       "      <td>0.764</td>\n",
       "    </tr>\n",
       "    <tr>\n",
       "      <th>2</th>\n",
       "      <td>Under Sampling</td>\n",
       "      <td>0.727</td>\n",
       "      <td>0.467</td>\n",
       "      <td>0.569</td>\n",
       "      <td>0.776</td>\n",
       "    </tr>\n",
       "    <tr>\n",
       "      <th>1</th>\n",
       "      <td>Over Sampling</td>\n",
       "      <td>0.718</td>\n",
       "      <td>0.523</td>\n",
       "      <td>0.605</td>\n",
       "      <td>0.809</td>\n",
       "    </tr>\n",
       "    <tr>\n",
       "      <th>0</th>\n",
       "      <td>No Sampling</td>\n",
       "      <td>0.455</td>\n",
       "      <td>0.762</td>\n",
       "      <td>0.570</td>\n",
       "      <td>0.860</td>\n",
       "    </tr>\n",
       "  </tbody>\n",
       "</table>\n",
       "</div>"
      ],
      "text/plain": [
       "  Random Forest with  Recall  Precision  F1 Score  Accuracy\n",
       "3     SMOTE Sampling   0.779      0.454     0.573     0.764\n",
       "2     Under Sampling   0.727      0.467     0.569     0.776\n",
       "1      Over Sampling   0.718      0.523     0.605     0.809\n",
       "0        No Sampling   0.455      0.762     0.570     0.860"
      ]
     },
     "execution_count": 690,
     "metadata": {},
     "output_type": "execute_result"
    }
   ],
   "source": [
    "predictions_rf = pd.concat([rf_score, rf_os_score, rf_us_score, rf_smote_score], ignore_index=True, sort=False)\n",
    "predictions_rf.sort_values(by=['Recall'], ascending=False)\n"
   ]
  },
  {
   "cell_type": "markdown",
   "metadata": {},
   "source": [
    "### Analyzing Logistic Regression"
   ]
  },
  {
   "cell_type": "code",
   "execution_count": 691,
   "metadata": {},
   "outputs": [],
   "source": [
    "\n",
    "from sklearn.linear_model import LogisticRegression\n",
    "\n",
    "param_grid_log =[{\n",
    "        'classifier': [LogisticRegression(max_iter=1000)], \n",
    "        'preprocessing':[preprocessor],\n",
    "        'classifier__C': [0.01, 0.1, 1.0, 10.0, 100.0],\n",
    "        'classifier__fit_intercept': [True, False]\n",
    "     }]\n",
    "\n"
   ]
  },
  {
   "cell_type": "code",
   "execution_count": 692,
   "metadata": {},
   "outputs": [
    {
     "name": "stdout",
     "output_type": "stream",
     "text": [
      "Best parameters: {'classifier': LogisticRegression(C=100.0, max_iter=1000), 'classifier__C': 100.0, 'classifier__fit_intercept': True, 'preprocessing': ColumnTransformer(transformers=[('num',\n",
      "                                 Pipeline(steps=[('numerical',\n",
      "                                                  SimpleImputer(strategy='median')),\n",
      "                                                 ('scaling',\n",
      "                                                  StandardScaler())]),\n",
      "                                 ['CreditScore', 'Age', 'Tenure', 'Balance',\n",
      "                                  'NumOfProducts', 'EstimatedSalary']),\n",
      "                                ('cat',\n",
      "                                 Pipeline(steps=[('categorical',\n",
      "                                                  SimpleImputer(strategy='most_frequent')),\n",
      "                                                 ('enc', OneHotEncoder())]),\n",
      "                                 ['Geography', 'Gender', 'HasCrCard',\n",
      "                                  'IsActiveMember'])])}\n",
      "Best score: 0.21669243037664093\n"
     ]
    }
   ],
   "source": [
    "# Logistic No Sampling\n",
    "grid_log = GridSearchCV(pipe1, param_grid=param_grid_log, cv=kf, \n",
    "                          scoring='recall', n_jobs=-1).fit(X_train, y_train)\n",
    "\n",
    "print('Best parameters:', grid_log.best_params_)\n",
    "print('Best score:', grid_log.best_score_)\n",
    "\n",
    "log_score = compute_test_score(grid_log,X_test)\n",
    "log_score.insert(0,'Logistic with','No Sampling')\n"
   ]
  },
  {
   "cell_type": "code",
   "execution_count": 693,
   "metadata": {},
   "outputs": [
    {
     "name": "stdout",
     "output_type": "stream",
     "text": [
      "Best parameters: {'classifier': LogisticRegression(C=0.1, max_iter=1000), 'classifier__C': 0.1, 'classifier__fit_intercept': True, 'preprocessing': ColumnTransformer(transformers=[('num',\n",
      "                                 Pipeline(steps=[('numerical',\n",
      "                                                  SimpleImputer(strategy='median')),\n",
      "                                                 ('scaling',\n",
      "                                                  StandardScaler())]),\n",
      "                                 ['CreditScore', 'Age', 'Tenure', 'Balance',\n",
      "                                  'NumOfProducts', 'EstimatedSalary']),\n",
      "                                ('cat',\n",
      "                                 Pipeline(steps=[('categorical',\n",
      "                                                  SimpleImputer(strategy='most_frequent')),\n",
      "                                                 ('enc', OneHotEncoder())]),\n",
      "                                 ['Geography', 'Gender', 'HasCrCard',\n",
      "                                  'IsActiveMember'])])}\n",
      "Best score: 0.6858569500674763\n"
     ]
    }
   ],
   "source": [
    "# Logistic Random Over Sampling\n",
    "grid_log_os = GridSearchCV(pipe_oversampling, param_grid=param_grid_log, cv=kf, \n",
    "                          scoring='recall', n_jobs=-1).fit(X_train, y_train)\n",
    "\n",
    "print('Best parameters:', grid_log_os.best_params_)\n",
    "print('Best score:', grid_log_os.best_score_)\n",
    "\n",
    "log_os_score = compute_test_score(grid_log_os,X_test)\n",
    "log_os_score.insert(0,'Logistic with','Over Sampling')\n"
   ]
  },
  {
   "cell_type": "code",
   "execution_count": 694,
   "metadata": {},
   "outputs": [
    {
     "name": "stdout",
     "output_type": "stream",
     "text": [
      "Best parameters: {'classifier': LogisticRegression(C=0.01, fit_intercept=False, max_iter=1000), 'classifier__C': 0.01, 'classifier__fit_intercept': False, 'preprocessing': ColumnTransformer(transformers=[('num',\n",
      "                                 Pipeline(steps=[('numerical',\n",
      "                                                  SimpleImputer(strategy='median')),\n",
      "                                                 ('scaling',\n",
      "                                                  StandardScaler())]),\n",
      "                                 ['CreditScore', 'Age', 'Tenure', 'Balance',\n",
      "                                  'NumOfProducts', 'EstimatedSalary']),\n",
      "                                ('cat',\n",
      "                                 Pipeline(steps=[('categorical',\n",
      "                                                  SimpleImputer(strategy='most_frequent')),\n",
      "                                                 ('enc', OneHotEncoder())]),\n",
      "                                 ['Geography', 'Gender', 'HasCrCard',\n",
      "                                  'IsActiveMember'])])}\n",
      "Best score: 0.6851453809348546\n"
     ]
    }
   ],
   "source": [
    "# Logistic Random Under Sampling\n",
    "grid_log_us = GridSearchCV(pipe_undersampling, param_grid=param_grid_log, cv=kf, \n",
    "                          scoring='recall', n_jobs=-1).fit(X_train, y_train)\n",
    "\n",
    "print('Best parameters:', grid_log_us.best_params_)\n",
    "print('Best score:', grid_log_us.best_score_)\n",
    "\n",
    "\n",
    "log_us_score = compute_test_score(grid_log_us,X_test)\n",
    "log_us_score.insert(0,'Logistic with','Under Sampling')\n"
   ]
  },
  {
   "cell_type": "code",
   "execution_count": 695,
   "metadata": {},
   "outputs": [
    {
     "name": "stdout",
     "output_type": "stream",
     "text": [
      "Best parameters: {'classifier': LogisticRegression(C=0.01, max_iter=1000), 'classifier__C': 0.01, 'classifier__fit_intercept': True, 'preprocessing': ColumnTransformer(transformers=[('num',\n",
      "                                 Pipeline(steps=[('numerical',\n",
      "                                                  SimpleImputer(strategy='median')),\n",
      "                                                 ('scaling',\n",
      "                                                  StandardScaler())]),\n",
      "                                 ['CreditScore', 'Age', 'Tenure', 'Balance',\n",
      "                                  'NumOfProducts', 'EstimatedSalary']),\n",
      "                                ('cat',\n",
      "                                 Pipeline(steps=[('categorical',\n",
      "                                                  SimpleImputer(strategy='most_frequent')),\n",
      "                                                 ('enc', OneHotEncoder())]),\n",
      "                                 ['Geography', 'Gender', 'HasCrCard',\n",
      "                                  'IsActiveMember'])])}\n",
      "Best score: 0.7678935099987731\n",
      "Best cross-validation train score: 0.78\n"
     ]
    }
   ],
   "source": [
    "# Logistic SMOTE Sampling\n",
    "grid_log_smote = GridSearchCV(pipe_sampling_smote, param_grid=param_grid_log, cv=kf, \n",
    "                          scoring='recall', n_jobs=-1, return_train_score=True).fit(X_train, y_train)\n",
    "\n",
    "print('Best parameters:', grid_log_smote.best_params_)\n",
    "print('Best score:', grid_log_smote.best_score_)\n",
    "# Best cross validation training score\n",
    "print(\"Best cross-validation train score: {:.2f}\".format(grid_log_smote.cv_results_['mean_train_score'][grid_log_smote.best_index_]))\n",
    "\n",
    "log_smote_score = compute_test_score(grid_log_smote,X_test)\n",
    "log_smote_score.insert(0,'Logistic with','SMOTE Sampling')"
   ]
  },
  {
   "cell_type": "code",
   "execution_count": 696,
   "metadata": {},
   "outputs": [
    {
     "data": {
      "text/html": [
       "<div>\n",
       "<style scoped>\n",
       "    .dataframe tbody tr th:only-of-type {\n",
       "        vertical-align: middle;\n",
       "    }\n",
       "\n",
       "    .dataframe tbody tr th {\n",
       "        vertical-align: top;\n",
       "    }\n",
       "\n",
       "    .dataframe thead th {\n",
       "        text-align: right;\n",
       "    }\n",
       "</style>\n",
       "<table border=\"1\" class=\"dataframe\">\n",
       "  <thead>\n",
       "    <tr style=\"text-align: right;\">\n",
       "      <th></th>\n",
       "      <th>Logistic with</th>\n",
       "      <th>Recall</th>\n",
       "      <th>Precision</th>\n",
       "      <th>F1 Score</th>\n",
       "      <th>Accuracy</th>\n",
       "    </tr>\n",
       "  </thead>\n",
       "  <tbody>\n",
       "    <tr>\n",
       "      <th>3</th>\n",
       "      <td>SMOTE Sampling</td>\n",
       "      <td>0.787</td>\n",
       "      <td>0.350</td>\n",
       "      <td>0.485</td>\n",
       "      <td>0.659</td>\n",
       "    </tr>\n",
       "    <tr>\n",
       "      <th>2</th>\n",
       "      <td>Under Sampling</td>\n",
       "      <td>0.697</td>\n",
       "      <td>0.384</td>\n",
       "      <td>0.496</td>\n",
       "      <td>0.711</td>\n",
       "    </tr>\n",
       "    <tr>\n",
       "      <th>1</th>\n",
       "      <td>Over Sampling</td>\n",
       "      <td>0.692</td>\n",
       "      <td>0.377</td>\n",
       "      <td>0.488</td>\n",
       "      <td>0.705</td>\n",
       "    </tr>\n",
       "    <tr>\n",
       "      <th>0</th>\n",
       "      <td>No Sampling</td>\n",
       "      <td>0.209</td>\n",
       "      <td>0.593</td>\n",
       "      <td>0.310</td>\n",
       "      <td>0.810</td>\n",
       "    </tr>\n",
       "  </tbody>\n",
       "</table>\n",
       "</div>"
      ],
      "text/plain": [
       "    Logistic with  Recall  Precision  F1 Score  Accuracy\n",
       "3  SMOTE Sampling   0.787      0.350     0.485     0.659\n",
       "2  Under Sampling   0.697      0.384     0.496     0.711\n",
       "1   Over Sampling   0.692      0.377     0.488     0.705\n",
       "0     No Sampling   0.209      0.593     0.310     0.810"
      ]
     },
     "execution_count": 696,
     "metadata": {},
     "output_type": "execute_result"
    }
   ],
   "source": [
    "predictions_log = pd.concat([log_score, log_os_score, log_us_score, log_smote_score], ignore_index=True, sort=False)\n",
    "predictions_log.sort_values(by=['Recall'], ascending=False)\n"
   ]
  },
  {
   "cell_type": "code",
   "execution_count": 697,
   "metadata": {},
   "outputs": [],
   "source": [
    "import pandas as pd\n",
    "import matplotlib.pyplot as plt\n",
    "\n",
    "def plot_results(df, ax):\n",
    "\n",
    "    # Setting the number of bars and the width of each bar\n",
    "    num_bars = len(df.columns) - 1  # excluding the first column\n",
    "    bar_width = 0.2  \n",
    "\n",
    "    # Set the positions of the bars on the x-axis\n",
    "    group_indices = np.arange(len(df))\n",
    "    bar_positions = [group_indices + i * bar_width for i in range(num_bars)]\n",
    "\n",
    "    # Plotting the grouped bar chart with space between groups\n",
    "    colors = ['b', 'g', 'r', 'c']  # Adjust as needed\n",
    "    labels = list(df.columns)[1:]  \n",
    "    for i in range(num_bars):\n",
    "        ax.bar(bar_positions[i], df.iloc[:, i + 1], color=colors[i], width=bar_width, edgecolor='grey', label=labels[i])\n",
    "\n",
    "    # Adding labels\n",
    "    ax.set_xlabel('Scores')\n",
    "    ax.set_ylabel('Values')\n",
    "    ax.set_xticks(group_indices + (num_bars - 1) * bar_width / 2, df.iloc[:,0], fontsize=8)\n",
    "    ax.legend()\n",
    "\n",
    "    "
   ]
  },
  {
   "cell_type": "code",
   "execution_count": 698,
   "metadata": {},
   "outputs": [
    {
     "data": {
      "image/png": "[encoded data removed]",
      "text/plain": [
       "<Figure size 1500x500 with 3 Axes>"
      ]
     },
     "metadata": {},
     "output_type": "display_data"
    }
   ],
   "source": [
    "results_dict = {'K Nearest': predictions_knn,'Random Forest':predictions_rf,'Logistic': predictions_log}\n",
    "\n",
    "# Create a 1x3 figure\n",
    "fig, axes = plt.subplots(1, 3, figsize=(15, 5))\n",
    "\n",
    "# Plot each chart\n",
    "for i, (subset_name, subset_df) in enumerate(results_dict.items()):\n",
    "    ax = axes[i]\n",
    "    plot_results(subset_df, ax)\n",
    "    ax.set_title(subset_name)\n",
    "\n",
    "# Adjust layout\n",
    "plt.tight_layout()\n",
    "\n",
    "# Show plot\n",
    "plt.show()"
   ]
  },
  {
   "cell_type": "markdown",
   "metadata": {},
   "source": [
    "### Results and Interpretations\n",
    "\n",
    "As we can see from the above comparisons between the models, the accuracy of the models is very similar (80%) and does not tell us which model works better in this imbalanced dataset. Recall was quite low for the imbalanced data set with all 3 models without any sampling done. As we use the different sampling techniques, the recall of the model increases but at the cost of precision. \n",
    "\n",
    "The business will decide whether it wants to emphasize more on the false negatives (churned people classified as not churned) or false positives(not churned people classified as churned). In the case that it wants to decrease false positives, then precision will be considered. If both needs to be balanced then a more appropriate metric would be ROC AUC. \n",
    "\n",
    "In our case, the recall has considerably increased with different scaling techniques. Also note that the higher recall does not necessarily means that we overfitting, it means that the relevent positive samples are being correctly classified. Also note that these results are test set scores, i.e., applying models to unseen separate data. <b>The randomized sampling techniques are producing overfitting and the specialized SMOTE ENN is generalizing well when doing grid search</b>\n",
    "\n",
    "<b>SMOTE Oversampling achieved best results by reducing overfitting as well as increasing recall.</b>\n",
    "More better results are produced by Random Forest Classifier where recall has increased (76%) and accuracy stays same, however precision has been compromised\n",
    "Our baseline kNN also increases the recall but at the cost of reduction in accuracy and precision.\n",
    "\n",
    "### Which Model works best ?\n",
    "- It depends on the business requirements\n",
    "\n",
    "### Can we do better\n",
    "\n",
    "Yes, there are plenty of opportunities for improvement \n",
    "- Choosing a different model that works better with the required tuning\n",
    "- Choose a different metric for evaluation. \n",
    "- Choosing a different sampling technique\n",
    "- Creating new features from the existing features would definitely increase the score"
   ]
  },
  {
   "cell_type": "markdown",
   "metadata": {},
   "source": [
    "### <i>REFERENCES</i>\n",
    "\n",
    "https://www.kaggle.com/code/marcinrutecki/best-techniques-and-metrics-for-imbalanced-dataset/notebook\n",
    "\n",
    "https://towardsdatascience.com/imbalanced-classification-in-python-smote-enn-method-db5db06b8d50\n"
   ]
  }
 ],
 "metadata": {
  "kernelspec": {
   "display_name": "project",
   "language": "python",
   "name": "python3"
  },
  "language_info": {
   "codemirror_mode": {
    "name": "ipython",
    "version": 3
   },
   "file_extension": ".py",
   "mimetype": "text/x-python",
   "name": "python",
   "nbconvert_exporter": "python",
   "pygments_lexer": "ipython3",
   "version": "3.11.5"
  }
 },
 "nbformat": 4,
 "nbformat_minor": 2
}
